{
 "cells": [
  {
   "cell_type": "code",
   "execution_count": 370,
   "metadata": {},
   "outputs": [],
   "source": [
    "# import libraries\n",
    "# imports\n",
    "import pandas as pd\n",
    "import json\n",
    "import matplotlib.pyplot as plt\n",
    "import seaborn as sns\n",
    "from geopy.distance import geodesic\n",
    "from pprint import pprint\n",
    "import numpy as np"
   ]
  },
  {
   "cell_type": "code",
   "execution_count": 387,
   "metadata": {},
   "outputs": [],
   "source": [
    "# set display options to show only last expression (is set to all by default on my system)\n",
    "from IPython.core.interactiveshell import InteractiveShell\n",
    "InteractiveShell.ast_node_interactivity = \"last_expr\""
   ]
  },
  {
   "cell_type": "markdown",
   "metadata": {},
   "source": [
    "Join the data from Part 1 with the data from Part 2 to create a new dataframe."
   ]
  },
  {
   "cell_type": "code",
   "execution_count": 79,
   "metadata": {},
   "outputs": [],
   "source": [
    "# import citybikes stations data file, (created in city_biles.ipynb)\n",
    "citybikes_df = pd.read_json('../data/citybikes_data.json')\n",
    "\n",
    "# citybikes_df.head()"
   ]
  },
  {
   "cell_type": "code",
   "execution_count": 76,
   "metadata": {},
   "outputs": [],
   "source": [
    "# load van fsq venue data into dataframe (created in yelp_foursquare_EDA.ipynb)\n",
    "yelp_df = pd.read_json('../data/yelp_data.json', orient='records')"
   ]
  },
  {
   "cell_type": "code",
   "execution_count": 57,
   "metadata": {},
   "outputs": [
    {
     "data": {
      "text/plain": [
       "(11829, 11)"
      ]
     },
     "execution_count": 57,
     "metadata": {},
     "output_type": "execute_result"
    },
    {
     "data": {
      "text/plain": [
       "Index(['yelp_venue_id', 'venue_name', 'rating', 'review_count', 'price',\n",
       "       'categories', 'latitude', 'longitude', 'address', 'distance_to_station',\n",
       "       'nearest_station_id'],\n",
       "      dtype='object')"
      ]
     },
     "execution_count": 57,
     "metadata": {},
     "output_type": "execute_result"
    },
    {
     "data": {
      "text/html": [
       "<div>\n",
       "<style scoped>\n",
       "    .dataframe tbody tr th:only-of-type {\n",
       "        vertical-align: middle;\n",
       "    }\n",
       "\n",
       "    .dataframe tbody tr th {\n",
       "        vertical-align: top;\n",
       "    }\n",
       "\n",
       "    .dataframe thead th {\n",
       "        text-align: right;\n",
       "    }\n",
       "</style>\n",
       "<table border=\"1\" class=\"dataframe\">\n",
       "  <thead>\n",
       "    <tr style=\"text-align: right;\">\n",
       "      <th></th>\n",
       "      <th>yelp_venue_id</th>\n",
       "      <th>venue_name</th>\n",
       "      <th>rating</th>\n",
       "      <th>review_count</th>\n",
       "      <th>price</th>\n",
       "      <th>categories</th>\n",
       "      <th>latitude</th>\n",
       "      <th>longitude</th>\n",
       "      <th>address</th>\n",
       "      <th>distance_to_station</th>\n",
       "      <th>nearest_station_id</th>\n",
       "    </tr>\n",
       "  </thead>\n",
       "  <tbody>\n",
       "    <tr>\n",
       "      <th>0</th>\n",
       "      <td>6iOAgzJ0DRZNSKA3FSrrOg</td>\n",
       "      <td>La Taqueria Pinche Taco Shop</td>\n",
       "      <td>4.0</td>\n",
       "      <td>684</td>\n",
       "      <td>$$</td>\n",
       "      <td>[Mexican]</td>\n",
       "      <td>49.263559</td>\n",
       "      <td>-123.112736</td>\n",
       "      <td>2450 Yukon Street</td>\n",
       "      <td>169.517456</td>\n",
       "      <td>7a19c49f486d7c0c02b3685d7b240448</td>\n",
       "    </tr>\n",
       "    <tr>\n",
       "      <th>1</th>\n",
       "      <td>nkDZY5xqihF3XtZMzzfqqg</td>\n",
       "      <td>Hokkaido Ramen Santouka</td>\n",
       "      <td>4.0</td>\n",
       "      <td>226</td>\n",
       "      <td>$$</td>\n",
       "      <td>[Noodles, Ramen, Soup]</td>\n",
       "      <td>49.263127</td>\n",
       "      <td>-123.116892</td>\n",
       "      <td>558 W Broadway</td>\n",
       "      <td>191.044234</td>\n",
       "      <td>7a19c49f486d7c0c02b3685d7b240448</td>\n",
       "    </tr>\n",
       "    <tr>\n",
       "      <th>2</th>\n",
       "      <td>XAH2HpuUUtu7CUO26pbs4w</td>\n",
       "      <td>Saku</td>\n",
       "      <td>4.5</td>\n",
       "      <td>236</td>\n",
       "      <td>$$</td>\n",
       "      <td>[Japanese]</td>\n",
       "      <td>49.263101</td>\n",
       "      <td>-123.116675</td>\n",
       "      <td>548 W Broadway</td>\n",
       "      <td>178.845344</td>\n",
       "      <td>7a19c49f486d7c0c02b3685d7b240448</td>\n",
       "    </tr>\n",
       "    <tr>\n",
       "      <th>3</th>\n",
       "      <td>4118Aq9LbkvUr4s719uUkA</td>\n",
       "      <td>Uma Sushi</td>\n",
       "      <td>4.5</td>\n",
       "      <td>117</td>\n",
       "      <td>$$$</td>\n",
       "      <td>[Japanese, Sushi Bars]</td>\n",
       "      <td>49.263805</td>\n",
       "      <td>-123.113729</td>\n",
       "      <td>450 W 8th Avenue</td>\n",
       "      <td>152.157897</td>\n",
       "      <td>7a19c49f486d7c0c02b3685d7b240448</td>\n",
       "    </tr>\n",
       "    <tr>\n",
       "      <th>4</th>\n",
       "      <td>F5wxgIiZE7LYQxgqhI483A</td>\n",
       "      <td>Seaport City Seafood Restaurant</td>\n",
       "      <td>4.0</td>\n",
       "      <td>35</td>\n",
       "      <td>None</td>\n",
       "      <td>[Dim Sum, Seafood, Cantonese]</td>\n",
       "      <td>49.263921</td>\n",
       "      <td>-123.115152</td>\n",
       "      <td>2425 Cambie Street</td>\n",
       "      <td>168.615262</td>\n",
       "      <td>7a19c49f486d7c0c02b3685d7b240448</td>\n",
       "    </tr>\n",
       "  </tbody>\n",
       "</table>\n",
       "</div>"
      ],
      "text/plain": [
       "            yelp_venue_id                       venue_name  rating  \\\n",
       "0  6iOAgzJ0DRZNSKA3FSrrOg     La Taqueria Pinche Taco Shop     4.0   \n",
       "1  nkDZY5xqihF3XtZMzzfqqg          Hokkaido Ramen Santouka     4.0   \n",
       "2  XAH2HpuUUtu7CUO26pbs4w                             Saku     4.5   \n",
       "3  4118Aq9LbkvUr4s719uUkA                        Uma Sushi     4.5   \n",
       "4  F5wxgIiZE7LYQxgqhI483A  Seaport City Seafood Restaurant     4.0   \n",
       "\n",
       "   review_count price                     categories   latitude   longitude  \\\n",
       "0           684    $$                      [Mexican]  49.263559 -123.112736   \n",
       "1           226    $$         [Noodles, Ramen, Soup]  49.263127 -123.116892   \n",
       "2           236    $$                     [Japanese]  49.263101 -123.116675   \n",
       "3           117   $$$         [Japanese, Sushi Bars]  49.263805 -123.113729   \n",
       "4            35  None  [Dim Sum, Seafood, Cantonese]  49.263921 -123.115152   \n",
       "\n",
       "              address  distance_to_station                nearest_station_id  \n",
       "0   2450 Yukon Street           169.517456  7a19c49f486d7c0c02b3685d7b240448  \n",
       "1      558 W Broadway           191.044234  7a19c49f486d7c0c02b3685d7b240448  \n",
       "2      548 W Broadway           178.845344  7a19c49f486d7c0c02b3685d7b240448  \n",
       "3    450 W 8th Avenue           152.157897  7a19c49f486d7c0c02b3685d7b240448  \n",
       "4  2425 Cambie Street           168.615262  7a19c49f486d7c0c02b3685d7b240448  "
      ]
     },
     "execution_count": 57,
     "metadata": {},
     "output_type": "execute_result"
    }
   ],
   "source": [
    "# yelp_df.shape\n",
    "# yelp_df.columns\n",
    "# yelp_df.head()"
   ]
  },
  {
   "cell_type": "code",
   "execution_count": 409,
   "metadata": {},
   "outputs": [],
   "source": [
    "# join citybikes and yelp dataframes on station id\n",
    "# use left join to keep all yelp venues, not interested in stations without associated venues\n",
    "df = pd.merge(yelp_df, citybikes_df, left_on='nearest_station_id', right_on='station_id', how='left')\n",
    "\n",
    "# drop redundant nearest_station_id column\n",
    "df = df.drop(['nearest_station_id'], axis=1)\n",
    "\n",
    "# reorder columns to focus on areas of interest\n",
    "df = df[[\n",
    "    'venue_name', 'rating', 'review_count', 'price', 'restaurant_categories',\n",
    "    'venue_address', 'venue_to_station_distance', 'station_name',\n",
    "    'total_slots', 'total_bikes_available', 'empty_slots',\n",
    "    'normal_bikes_available', 'ebikes_available', 'can_rent', 'can_return', \n",
    "    'station_info_date', 'station_info_time', \n",
    "    'station_id', 'station_latitude', 'station_longitude', \n",
    "    'yelp_venue_id', 'venue_latitude', 'venue_longitude'\n",
    "]]\n",
    "\n",
    "# convert price column to numeric to allow analysis\n",
    "df['price'] = df['price'].map({'$': 1, '$$': 2, '$$$': 3, '$$$$': 4}).astype(float)\n"
   ]
  },
  {
   "cell_type": "code",
   "execution_count": 313,
   "metadata": {},
   "outputs": [],
   "source": [
    "# save merged dataframe to json file\n",
    "df.to_json('../data/yelp_citybikes_merged.json', orient='records')"
   ]
  },
  {
   "cell_type": "code",
   "execution_count": 312,
   "metadata": {},
   "outputs": [
    {
     "data": {
      "text/plain": [
       "price             2029\n",
       "venue_address       20\n",
       "venue_name           0\n",
       "can_rent             0\n",
       "venue_latitude       0\n",
       "dtype: int64"
      ]
     },
     "execution_count": 312,
     "metadata": {},
     "output_type": "execute_result"
    }
   ],
   "source": [
    "# check for null values in combined dataframe\n",
    "df.isnull().sum().sort_values(ascending=False).head(5)\n",
    "# 2029 rows have no price data\n",
    "# 20 rows have no venue address data\n"
   ]
  },
  {
   "cell_type": "code",
   "execution_count": 314,
   "metadata": {},
   "outputs": [
    {
     "data": {
      "text/plain": [
       "Index(['venue_name', 'rating', 'review_count', 'price',\n",
       "       'restaurant_categories', 'venue_address', 'venue_to_station_distance',\n",
       "       'station_name', 'total_slots', 'total_bikes_available', 'empty_slots',\n",
       "       'normal_bikes_available', 'ebikes_available', 'can_rent', 'can_return',\n",
       "       'station_info_date', 'station_info_time', 'station_id',\n",
       "       'station_latitude', 'station_longitude', 'yelp_venue_id',\n",
       "       'venue_latitude', 'venue_longitude'],\n",
       "      dtype='object')"
      ]
     },
     "execution_count": 314,
     "metadata": {},
     "output_type": "execute_result"
    }
   ],
   "source": [
    "df.columns"
   ]
  },
  {
   "cell_type": "markdown",
   "metadata": {},
   "source": [
    "## EDA\n",
    "Provide a visualization that you used as part of your EDA process. Explain the initial pattern or relationship you discoved through this visualization. "
   ]
  },
  {
   "cell_type": "markdown",
   "metadata": {},
   "source": [
    "### distribution of column data"
   ]
  },
  {
   "cell_type": "code",
   "execution_count": null,
   "metadata": {},
   "outputs": [
    {
     "data": {
      "text/html": [
       "<div>\n",
       "<style scoped>\n",
       "    .dataframe tbody tr th:only-of-type {\n",
       "        vertical-align: middle;\n",
       "    }\n",
       "\n",
       "    .dataframe tbody tr th {\n",
       "        vertical-align: top;\n",
       "    }\n",
       "\n",
       "    .dataframe thead th {\n",
       "        text-align: right;\n",
       "    }\n",
       "</style>\n",
       "<table border=\"1\" class=\"dataframe\">\n",
       "  <thead>\n",
       "    <tr style=\"text-align: right;\">\n",
       "      <th></th>\n",
       "      <th>rating</th>\n",
       "      <th>review_count</th>\n",
       "      <th>price</th>\n",
       "      <th>venue_to_station_distance</th>\n",
       "      <th>total_slots</th>\n",
       "      <th>total_bikes_available</th>\n",
       "      <th>ebikes_available</th>\n",
       "      <th>empty_slots</th>\n",
       "    </tr>\n",
       "  </thead>\n",
       "  <tbody>\n",
       "    <tr>\n",
       "      <th>count</th>\n",
       "      <td>11829.000000</td>\n",
       "      <td>11829.000000</td>\n",
       "      <td>9800.000000</td>\n",
       "      <td>11829.000000</td>\n",
       "      <td>11829.000000</td>\n",
       "      <td>11829.000000</td>\n",
       "      <td>11829.000000</td>\n",
       "      <td>11829.000000</td>\n",
       "    </tr>\n",
       "    <tr>\n",
       "      <th>mean</th>\n",
       "      <td>3.998478</td>\n",
       "      <td>258.921126</td>\n",
       "      <td>2.103673</td>\n",
       "      <td>611.217610</td>\n",
       "      <td>18.702173</td>\n",
       "      <td>9.148787</td>\n",
       "      <td>1.887987</td>\n",
       "      <td>9.278384</td>\n",
       "    </tr>\n",
       "    <tr>\n",
       "      <th>std</th>\n",
       "      <td>0.468032</td>\n",
       "      <td>324.076659</td>\n",
       "      <td>0.643260</td>\n",
       "      <td>871.089228</td>\n",
       "      <td>5.148930</td>\n",
       "      <td>5.784457</td>\n",
       "      <td>2.188963</td>\n",
       "      <td>4.986881</td>\n",
       "    </tr>\n",
       "    <tr>\n",
       "      <th>min</th>\n",
       "      <td>1.500000</td>\n",
       "      <td>1.000000</td>\n",
       "      <td>1.000000</td>\n",
       "      <td>1.973312</td>\n",
       "      <td>12.000000</td>\n",
       "      <td>0.000000</td>\n",
       "      <td>0.000000</td>\n",
       "      <td>0.000000</td>\n",
       "    </tr>\n",
       "    <tr>\n",
       "      <th>25%</th>\n",
       "      <td>4.000000</td>\n",
       "      <td>66.000000</td>\n",
       "      <td>2.000000</td>\n",
       "      <td>319.423286</td>\n",
       "      <td>14.000000</td>\n",
       "      <td>5.000000</td>\n",
       "      <td>0.000000</td>\n",
       "      <td>6.000000</td>\n",
       "    </tr>\n",
       "    <tr>\n",
       "      <th>50%</th>\n",
       "      <td>4.000000</td>\n",
       "      <td>151.000000</td>\n",
       "      <td>2.000000</td>\n",
       "      <td>569.917039</td>\n",
       "      <td>18.000000</td>\n",
       "      <td>8.000000</td>\n",
       "      <td>1.000000</td>\n",
       "      <td>9.000000</td>\n",
       "    </tr>\n",
       "    <tr>\n",
       "      <th>75%</th>\n",
       "      <td>4.500000</td>\n",
       "      <td>321.000000</td>\n",
       "      <td>2.000000</td>\n",
       "      <td>864.461755</td>\n",
       "      <td>20.000000</td>\n",
       "      <td>13.000000</td>\n",
       "      <td>3.000000</td>\n",
       "      <td>13.000000</td>\n",
       "    </tr>\n",
       "    <tr>\n",
       "      <th>max</th>\n",
       "      <td>5.000000</td>\n",
       "      <td>2613.000000</td>\n",
       "      <td>4.000000</td>\n",
       "      <td>50646.704834</td>\n",
       "      <td>40.000000</td>\n",
       "      <td>31.000000</td>\n",
       "      <td>15.000000</td>\n",
       "      <td>36.000000</td>\n",
       "    </tr>\n",
       "  </tbody>\n",
       "</table>\n",
       "</div>"
      ],
      "text/plain": [
       "             rating  review_count        price  venue_to_station_distance  \\\n",
       "count  11829.000000  11829.000000  9800.000000               11829.000000   \n",
       "mean       3.998478    258.921126     2.103673                 611.217610   \n",
       "std        0.468032    324.076659     0.643260                 871.089228   \n",
       "min        1.500000      1.000000     1.000000                   1.973312   \n",
       "25%        4.000000     66.000000     2.000000                 319.423286   \n",
       "50%        4.000000    151.000000     2.000000                 569.917039   \n",
       "75%        4.500000    321.000000     2.000000                 864.461755   \n",
       "max        5.000000   2613.000000     4.000000               50646.704834   \n",
       "\n",
       "        total_slots  total_bikes_available  ebikes_available   empty_slots  \n",
       "count  11829.000000           11829.000000      11829.000000  11829.000000  \n",
       "mean      18.702173               9.148787          1.887987      9.278384  \n",
       "std        5.148930               5.784457          2.188963      4.986881  \n",
       "min       12.000000               0.000000          0.000000      0.000000  \n",
       "25%       14.000000               5.000000          0.000000      6.000000  \n",
       "50%       18.000000               8.000000          1.000000      9.000000  \n",
       "75%       20.000000              13.000000          3.000000     13.000000  \n",
       "max       40.000000              31.000000         15.000000     36.000000  "
      ]
     },
     "metadata": {},
     "output_type": "display_data"
    }
   ],
   "source": [
    "# get summary statistics for each numeric column in dataframe\n",
    "df[['rating', 'review_count', 'price', 'venue_to_station_distance', 'total_slots', 'total_bikes_available', 'ebikes_available', 'empty_slots']].describe()\n"
   ]
  },
  {
   "cell_type": "code",
   "execution_count": 395,
   "metadata": {},
   "outputs": [
    {
     "data": {
      "image/png": "[encoded data removed]",
      "text/plain": [
       "<Figure size 1400x500 with 8 Axes>"
      ]
     },
     "metadata": {},
     "output_type": "display_data"
    }
   ],
   "source": [
    "# distribution for each numeric column in dataframe\n",
    "\n",
    "fig, axes = plt.subplots(2, 4, figsize=(14, 5))\n",
    "sns.histplot(ax=axes[0,0], data=df, x='rating')\n",
    "sns.histplot(ax=axes[0,1], data=df, x='review_count')\n",
    "sns.histplot(ax=axes[0,2], data=df, x='price')\n",
    "sns.histplot(ax=axes[0,3], data=df, x='venue_to_station_distance')\n",
    "sns.histplot(ax=axes[1,0], data=df, x='total_slots')\n",
    "sns.histplot(ax=axes[1,1], data=df, x='total_bikes_available')\n",
    "sns.histplot(ax=axes[1,2], data=df, x='ebikes_available')\n",
    "sns.histplot(ax=axes[1,3], data=df, x='empty_slots')\n",
    "\n",
    "# set axis ranges where necessary\n",
    "# axes[0,3].set_xlim(0, 1500)\n",
    "# axes[1,3].set_xlim(0, 30)\n",
    "\n",
    "fig.tight_layout()\n",
    "\n",
    "fig.savefig('../images/df_hist.svg')"
   ]
  },
  {
   "cell_type": "code",
   "execution_count": null,
   "metadata": {},
   "outputs": [],
   "source": [
    "# can see that ouliers skey the historgram in review count, venue to station distance, total slots, total bikes available and empty slots"
   ]
  },
  {
   "cell_type": "code",
   "execution_count": 435,
   "metadata": {},
   "outputs": [
    {
     "data": {
      "image/png": "[encoded data removed]",
      "text/plain": [
       "<Figure size 1400x500 with 8 Axes>"
      ]
     },
     "metadata": {},
     "output_type": "display_data"
    }
   ],
   "source": [
    "# boxplot for each numeric column in dataframe\n",
    "\n",
    "fig, axes = plt.subplots(2, 4, figsize=(14, 5))\n",
    "\n",
    "sns.boxplot(ax=axes[0,0], data=df, x='rating')\n",
    "sns.boxplot(ax=axes[0,1], data=df, x='review_count')\n",
    "sns.boxplot(ax=axes[0,2], data=df, x='price')\n",
    "sns.boxplot(ax=axes[0,3], data=df, x='venue_to_station_distance')\n",
    "sns.boxplot(ax=axes[1,0], data=df, x='total_slots')\n",
    "sns.boxplot(ax=axes[1,1], data=df, x='total_bikes_available')\n",
    "sns.boxplot(ax=axes[1,2], data=df, x='ebikes_available')\n",
    "sns.boxplot(ax=axes[1,3], data=df, x='empty_slots')\n",
    "\n",
    "fig.tight_layout()\n",
    "\n",
    "fig.savefig('../images/df_boxplot.svg')"
   ]
  },
  {
   "cell_type": "markdown",
   "metadata": {},
   "source": [
    "- given the lack of normal distribution for these variables, will need to identify outliers using IQR method\n",
    "- can see there are outliers in each variable, will need to identify and remove these"
   ]
  },
  {
   "cell_type": "markdown",
   "metadata": {},
   "source": [
    "#### Identifying outliers"
   ]
  },
  {
   "cell_type": "code",
   "execution_count": 410,
   "metadata": {},
   "outputs": [],
   "source": [
    "# Function to return outlier indices based on IQR\n",
    "def get_outlier_indices(column):\n",
    "    Q1 = column.quantile(0.25)\n",
    "    Q3 = column.quantile(0.75)\n",
    "    IQR = Q3 - Q1\n",
    "    lower_bound = Q1 - 1.5 * IQR\n",
    "    upper_bound = Q3 + 1.5 * IQR\n",
    "    outlier_indices = column[(column < lower_bound) | (column > upper_bound)].index\n",
    "    return outlier_indices\n",
    "\n",
    "# Dictionary to hold outliers for each column\n",
    "outliers_dict = {}\n",
    "\n",
    "# List of column names to check for outliers (omit rating and price)\n",
    "columns_to_check = ['review_count', 'venue_to_station_distance', 'total_slots', 'total_bikes_available', 'ebikes_available', 'empty_slots']\n",
    "\n",
    "# Loop through columns and apply the function\n",
    "for column in columns_to_check:\n",
    "    outliers_dict[column] = get_outlier_indices(df[column])\n",
    "\n",
    "# Now outliers_dict contains the indices of the outliers for each column\n",
    "outliers_dict\n",
    "\n",
    "df_clean = df.copy()\n",
    "\n",
    "# Remove outliers for each column\n",
    "for column, indices in outliers_dict.items():\n",
    "    # find the intersection of the indices to drop with the current dataframe\n",
    "    indices_to_drop = df_clean.index.intersection(indices)\n",
    "    \n",
    "    df_clean = df_clean.drop(indices_to_drop)\n",
    "\n",
    "# df now has outliers removed based on the specified columns\n"
   ]
  },
  {
   "cell_type": "code",
   "execution_count": 415,
   "metadata": {},
   "outputs": [
    {
     "data": {
      "text/plain": [
       "((10046, 23), (11829, 23))"
      ]
     },
     "execution_count": 415,
     "metadata": {},
     "output_type": "execute_result"
    }
   ],
   "source": [
    "df_clean.shape, df.shape # 1783 rows removed"
   ]
  },
  {
   "cell_type": "code",
   "execution_count": 434,
   "metadata": {},
   "outputs": [],
   "source": [
    "# save cleaned dataframe to json file\n",
    "df_clean.to_json('../data/yelp_citybikes_clean.json', orient='records')"
   ]
  },
  {
   "cell_type": "markdown",
   "metadata": {},
   "source": [
    "##### Histogram, outliers revomed"
   ]
  },
  {
   "cell_type": "code",
   "execution_count": 436,
   "metadata": {},
   "outputs": [
    {
     "data": {
      "image/png": "[encoded data removed]",
      "text/plain": [
       "<Figure size 1400x500 with 8 Axes>"
      ]
     },
     "metadata": {},
     "output_type": "display_data"
    }
   ],
   "source": [
    "# try visualizing the data with outliers removed\n",
    "# distribution for each numeric column in dataframe\n",
    "\n",
    "fig, axes = plt.subplots(2, 4, figsize=(14, 5))\n",
    "sns.histplot(ax=axes[0,0], data=df_clean, x='rating')\n",
    "sns.histplot(ax=axes[0,1], data=df_clean, x='review_count')\n",
    "sns.histplot(ax=axes[0,2], data=df_clean, x='price')\n",
    "sns.histplot(ax=axes[0,3], data=df_clean, x='venue_to_station_distance')\n",
    "sns.histplot(ax=axes[1,0], data=df_clean, x='total_slots')\n",
    "sns.histplot(ax=axes[1,1], data=df_clean, x='total_bikes_available')\n",
    "sns.histplot(ax=axes[1,2], data=df_clean, x='ebikes_available')\n",
    "sns.histplot(ax=axes[1,3], data=df_clean, x='empty_slots')\n",
    "\n",
    "# set axis ranges where necessary\n",
    "# axes[0,3].set_xlim(0, 1500)\n",
    "# axes[1,3].set_xlim(0, 30)\n",
    "\n",
    "fig.tight_layout()\n",
    "\n",
    "fig.savefig('../images/clean_hist.svg')"
   ]
  },
  {
   "cell_type": "markdown",
   "metadata": {},
   "source": [
    "##### Boxplot - outliers removed"
   ]
  },
  {
   "cell_type": "code",
   "execution_count": 438,
   "metadata": {},
   "outputs": [
    {
     "data": {
      "image/png": "[encoded data removed]",
      "text/plain": [
       "<Figure size 1400x500 with 8 Axes>"
      ]
     },
     "metadata": {},
     "output_type": "display_data"
    }
   ],
   "source": [
    "# boxplot for data with outliers removed\n",
    "\n",
    "fig, axes = plt.subplots(2, 4, figsize=(14, 5))\n",
    "\n",
    "sns.boxplot(ax=axes[0,0], data=df_clean, x='rating')\n",
    "sns.boxplot(ax=axes[0,1], data=df_clean, x='review_count')\n",
    "sns.boxplot(ax=axes[0,2], data=df_clean, x='price')\n",
    "sns.boxplot(ax=axes[0,3], data=df_clean, x='venue_to_station_distance')\n",
    "sns.boxplot(ax=axes[1,0], data=df_clean, x='total_slots')\n",
    "sns.boxplot(ax=axes[1,1], data=df_clean, x='total_bikes_available')\n",
    "sns.boxplot(ax=axes[1,2], data=df_clean, x='ebikes_available')\n",
    "sns.boxplot(ax=axes[1,3], data=df_clean, x='empty_slots')\n",
    "\n",
    "fig.tight_layout()\n",
    "\n",
    "fig.savefig('../images/clean_boxplot.svg')"
   ]
  },
  {
   "cell_type": "markdown",
   "metadata": {},
   "source": [
    "#### exploring station data"
   ]
  },
  {
   "cell_type": "code",
   "execution_count": 421,
   "metadata": {},
   "outputs": [
    {
     "data": {
      "text/html": [
       "<div>\n",
       "<style scoped>\n",
       "    .dataframe tbody tr th:only-of-type {\n",
       "        vertical-align: middle;\n",
       "    }\n",
       "\n",
       "    .dataframe tbody tr th {\n",
       "        vertical-align: top;\n",
       "    }\n",
       "\n",
       "    .dataframe thead th {\n",
       "        text-align: right;\n",
       "    }\n",
       "</style>\n",
       "<table border=\"1\" class=\"dataframe\">\n",
       "  <thead>\n",
       "    <tr style=\"text-align: right;\">\n",
       "      <th></th>\n",
       "      <th>total_slots</th>\n",
       "      <th>empty_slots</th>\n",
       "      <th>total_bikes_available</th>\n",
       "      <th>normal_bikes_available</th>\n",
       "      <th>ebikes_available</th>\n",
       "      <th>station_info_time</th>\n",
       "      <th>station_latitude</th>\n",
       "      <th>station_longitude</th>\n",
       "    </tr>\n",
       "  </thead>\n",
       "  <tbody>\n",
       "    <tr>\n",
       "      <th>count</th>\n",
       "      <td>248.000000</td>\n",
       "      <td>248.000000</td>\n",
       "      <td>248.000000</td>\n",
       "      <td>248.000000</td>\n",
       "      <td>248.000000</td>\n",
       "      <td>248</td>\n",
       "      <td>248.000000</td>\n",
       "      <td>248.000000</td>\n",
       "    </tr>\n",
       "    <tr>\n",
       "      <th>mean</th>\n",
       "      <td>18.810484</td>\n",
       "      <td>9.491935</td>\n",
       "      <td>9.040323</td>\n",
       "      <td>7.125000</td>\n",
       "      <td>1.915323</td>\n",
       "      <td>2023-12-09 13:39:21.000000256</td>\n",
       "      <td>49.271780</td>\n",
       "      <td>-123.119346</td>\n",
       "    </tr>\n",
       "    <tr>\n",
       "      <th>min</th>\n",
       "      <td>0.000000</td>\n",
       "      <td>0.000000</td>\n",
       "      <td>0.000000</td>\n",
       "      <td>0.000000</td>\n",
       "      <td>0.000000</td>\n",
       "      <td>2023-12-09 13:39:21</td>\n",
       "      <td>49.238105</td>\n",
       "      <td>-123.252261</td>\n",
       "    </tr>\n",
       "    <tr>\n",
       "      <th>25%</th>\n",
       "      <td>15.750000</td>\n",
       "      <td>6.000000</td>\n",
       "      <td>4.750000</td>\n",
       "      <td>2.000000</td>\n",
       "      <td>0.000000</td>\n",
       "      <td>2023-12-09 13:39:21</td>\n",
       "      <td>49.263484</td>\n",
       "      <td>-123.138182</td>\n",
       "    </tr>\n",
       "    <tr>\n",
       "      <th>50%</th>\n",
       "      <td>18.000000</td>\n",
       "      <td>9.000000</td>\n",
       "      <td>8.000000</td>\n",
       "      <td>6.000000</td>\n",
       "      <td>1.000000</td>\n",
       "      <td>2023-12-09 13:39:21</td>\n",
       "      <td>49.271063</td>\n",
       "      <td>-123.118073</td>\n",
       "    </tr>\n",
       "    <tr>\n",
       "      <th>75%</th>\n",
       "      <td>20.000000</td>\n",
       "      <td>13.000000</td>\n",
       "      <td>13.000000</td>\n",
       "      <td>11.000000</td>\n",
       "      <td>3.000000</td>\n",
       "      <td>2023-12-09 13:39:21</td>\n",
       "      <td>49.280662</td>\n",
       "      <td>-123.099747</td>\n",
       "    </tr>\n",
       "    <tr>\n",
       "      <th>max</th>\n",
       "      <td>40.000000</td>\n",
       "      <td>36.000000</td>\n",
       "      <td>31.000000</td>\n",
       "      <td>25.000000</td>\n",
       "      <td>15.000000</td>\n",
       "      <td>2023-12-09 13:39:21</td>\n",
       "      <td>49.302577</td>\n",
       "      <td>-123.056909</td>\n",
       "    </tr>\n",
       "    <tr>\n",
       "      <th>std</th>\n",
       "      <td>5.384824</td>\n",
       "      <td>5.317447</td>\n",
       "      <td>5.763067</td>\n",
       "      <td>5.605494</td>\n",
       "      <td>2.268622</td>\n",
       "      <td>NaN</td>\n",
       "      <td>0.011708</td>\n",
       "      <td>0.032818</td>\n",
       "    </tr>\n",
       "  </tbody>\n",
       "</table>\n",
       "</div>"
      ],
      "text/plain": [
       "       total_slots  empty_slots  total_bikes_available  \\\n",
       "count   248.000000   248.000000             248.000000   \n",
       "mean     18.810484     9.491935               9.040323   \n",
       "min       0.000000     0.000000               0.000000   \n",
       "25%      15.750000     6.000000               4.750000   \n",
       "50%      18.000000     9.000000               8.000000   \n",
       "75%      20.000000    13.000000              13.000000   \n",
       "max      40.000000    36.000000              31.000000   \n",
       "std       5.384824     5.317447               5.763067   \n",
       "\n",
       "       normal_bikes_available  ebikes_available  \\\n",
       "count              248.000000        248.000000   \n",
       "mean                 7.125000          1.915323   \n",
       "min                  0.000000          0.000000   \n",
       "25%                  2.000000          0.000000   \n",
       "50%                  6.000000          1.000000   \n",
       "75%                 11.000000          3.000000   \n",
       "max                 25.000000         15.000000   \n",
       "std                  5.605494          2.268622   \n",
       "\n",
       "                   station_info_time  station_latitude  station_longitude  \n",
       "count                            248        248.000000         248.000000  \n",
       "mean   2023-12-09 13:39:21.000000256         49.271780        -123.119346  \n",
       "min              2023-12-09 13:39:21         49.238105        -123.252261  \n",
       "25%              2023-12-09 13:39:21         49.263484        -123.138182  \n",
       "50%              2023-12-09 13:39:21         49.271063        -123.118073  \n",
       "75%              2023-12-09 13:39:21         49.280662        -123.099747  \n",
       "max              2023-12-09 13:39:21         49.302577        -123.056909  \n",
       "std                              NaN          0.011708           0.032818  "
      ]
     },
     "execution_count": 421,
     "metadata": {},
     "output_type": "execute_result"
    }
   ],
   "source": [
    "citybikes_df.describe()"
   ]
  },
  {
   "cell_type": "code",
   "execution_count": 416,
   "metadata": {},
   "outputs": [
    {
     "data": {
      "text/plain": [
       "Index(['venue_name', 'rating', 'review_count', 'price',\n",
       "       'restaurant_categories', 'venue_address', 'venue_to_station_distance',\n",
       "       'station_name', 'total_slots', 'total_bikes_available', 'empty_slots',\n",
       "       'normal_bikes_available', 'ebikes_available', 'can_rent', 'can_return',\n",
       "       'station_info_date', 'station_info_time', 'station_id',\n",
       "       'station_latitude', 'station_longitude', 'yelp_venue_id',\n",
       "       'venue_latitude', 'venue_longitude'],\n",
       "      dtype='object')"
      ]
     },
     "execution_count": 416,
     "metadata": {},
     "output_type": "execute_result"
    }
   ],
   "source": [
    "df_clean.columns"
   ]
  },
  {
   "cell_type": "markdown",
   "metadata": {},
   "source": [
    "##### Station histograms"
   ]
  },
  {
   "cell_type": "code",
   "execution_count": 423,
   "metadata": {},
   "outputs": [
    {
     "data": {
      "image/png": "[encoded data removed]",
      "text/plain": [
       "<Figure size 1400x500 with 8 Axes>"
      ]
     },
     "metadata": {},
     "output_type": "display_data"
    }
   ],
   "source": [
    "# filter merged dataframe for unique station ids\n",
    "df_unique_stations = df_clean.drop_duplicates(subset=['station_id'])\n",
    "\n",
    "fig, axes = plt.subplots(2, 4, figsize=(14, 5))\n",
    "\n",
    "sns.histplot(ax=axes[0,0], data=df_unique_stations, x='total_slots')\n",
    "sns.histplot(ax=axes[0,1], data=df_unique_stations, x='total_bikes_available')\n",
    "sns.histplot(ax=axes[0,2], data=df_unique_stations, x='empty_slots')\n",
    "sns.histplot(ax=axes[0,3], data=df_unique_stations, x='normal_bikes_available')\n",
    "sns.histplot(ax=axes[1,0], data=df_unique_stations, x='ebikes_available')\n",
    "sns.histplot(ax=axes[1,1], data=df_unique_stations, x='can_rent')\n",
    "sns.histplot(ax=axes[1,2], data=df_unique_stations, x='can_return')\n",
    "\n",
    "fig.tight_layout()\n",
    "\n",
    "fig.savefig('../images/station_hist.svg')"
   ]
  },
  {
   "cell_type": "markdown",
   "metadata": {},
   "source": [
    "##### Station boxplots"
   ]
  },
  {
   "cell_type": "code",
   "execution_count": 422,
   "metadata": {},
   "outputs": [
    {
     "data": {
      "image/png": "[encoded data removed]",
      "text/plain": [
       "<Figure size 1400x500 with 8 Axes>"
      ]
     },
     "metadata": {},
     "output_type": "display_data"
    }
   ],
   "source": [
    "fig, axes = plt.subplots(2, 4, figsize=(14, 5))\n",
    "\n",
    "sns.boxplot(ax=axes[0,0], data=df_unique_stations, x='total_slots')\n",
    "sns.boxplot(ax=axes[0,1], data=df_unique_stations, x='total_bikes_available')\n",
    "sns.boxplot(ax=axes[0,2], data=df_unique_stations, x='empty_slots')\n",
    "sns.boxplot(ax=axes[0,3], data=df_unique_stations, x='normal_bikes_available')\n",
    "sns.boxplot(ax=axes[1,0], data=df_unique_stations, x='ebikes_available')\n",
    "sns.boxplot(ax=axes[1,1], data=df_unique_stations, x='can_rent')\n",
    "sns.boxplot(ax=axes[1,2], data=df_unique_stations, x='can_return')\n",
    "\n",
    "fig.tight_layout()\n",
    "\n",
    "fig.savefig('../images/station_boxplot.svg')"
   ]
  },
  {
   "cell_type": "markdown",
   "metadata": {},
   "source": [
    "### Misc EDA "
   ]
  },
  {
   "cell_type": "markdown",
   "metadata": {},
   "source": [
    "#### Review Count Analysis"
   ]
  },
  {
   "cell_type": "code",
   "execution_count": 439,
   "metadata": {},
   "outputs": [
    {
     "data": {
      "image/png": "[encoded data removed]",
      "text/plain": [
       "<Figure size 1000x500 with 1 Axes>"
      ]
     },
     "metadata": {},
     "output_type": "display_data"
    }
   ],
   "source": [
    "# bar chart of review count for top 10 venues by review count\n",
    "# Group by 'yelp_venue_id' and calculate the total review count for each venue\n",
    "review_count_by_venue = df_clean.groupby('venue_name')['review_count'].mean()\n",
    "\n",
    "# Sort the review counts and take the top 10\n",
    "top_venues_by_review_count = review_count_by_venue.sort_values(ascending=False).head(10)\n",
    "\n",
    "# Plotting\n",
    "plt.figure(figsize=(10, 5))\n",
    "top_venues_by_review_count.plot(kind='barh')\n",
    "\n",
    "plt.xlabel('Total Review Count')\n",
    "plt.ylabel('Venue')\n",
    "plt.title('Top 10 Venues by Total Review Count')\n",
    "\n",
    "# Save the plot\n",
    "fig.savefig('../images/top_reviewed_venues.svg')\n"
   ]
  },
  {
   "cell_type": "code",
   "execution_count": 440,
   "metadata": {},
   "outputs": [
    {
     "data": {
      "image/png": "[encoded data removed]",
      "text/plain": [
       "<Figure size 1000x500 with 1 Axes>"
      ]
     },
     "metadata": {},
     "output_type": "display_data"
    }
   ],
   "source": [
    "# create scatter plot of ratings to review count\n",
    "plt.figure(figsize=(10, 5))\n",
    "plt.scatter(df_clean['rating'], df_clean['review_count'])\n",
    "plt.xlabel('Rating')\n",
    "plt.ylabel('Review count')\n",
    "plt.title('Scatter plot of ratings to review count')\n",
    "\n",
    "# save scatter plot to file\n",
    "plt.savefig('../images/ratings_vs_reviewcount.png')\n",
    "\n",
    "# do more reviews correlate with a higher rating? explore in model notebook"
   ]
  },
  {
   "cell_type": "markdown",
   "metadata": {},
   "source": [
    "#### Price Level Analysis"
   ]
  },
  {
   "cell_type": "code",
   "execution_count": 441,
   "metadata": {},
   "outputs": [
    {
     "data": {
      "image/png": "[encoded data removed]",
      "text/plain": [
       "<Figure size 1200x600 with 1 Axes>"
      ]
     },
     "metadata": {},
     "output_type": "display_data"
    }
   ],
   "source": [
    "# bar chart of count of venues at each price level\n",
    "plt.figure(figsize=(12, 6))\n",
    "\n",
    "df_unique_venues = df_clean.drop_duplicates(subset='yelp_venue_id')\n",
    "\n",
    "df_unique_venues.groupby('price')['venue_name'].count().plot(kind='bar')\n",
    "\n",
    "plt.title('Count of Venues at Each Price Level')\n",
    "plt.xlabel('Price Level')\n",
    "plt.ylabel('Count of Venues')\n",
    "\n",
    "# save bar chart to file\n",
    "plt.savefig('../images/price_level_count.png')"
   ]
  },
  {
   "cell_type": "code",
   "execution_count": 442,
   "metadata": {},
   "outputs": [
    {
     "data": {
      "image/png": "[encoded data removed]",
      "text/plain": [
       "<Figure size 1200x600 with 1 Axes>"
      ]
     },
     "metadata": {},
     "output_type": "display_data"
    }
   ],
   "source": [
    "# bar plot of average rating by price level\n",
    "plt.figure(figsize=(12, 6))\n",
    "df_clean.groupby('price')['rating'].mean().plot(kind='bar')\n",
    "\n",
    "plt.title('Average Rating by Price Level')\n",
    "plt.xlabel('Price Level')\n",
    "plt.ylabel('Average Rating')\n",
    "\n",
    "# save bar chart to file\n",
    "plt.savefig('../images/avg_rating_by_price.png')"
   ]
  },
  {
   "cell_type": "code",
   "execution_count": 443,
   "metadata": {},
   "outputs": [
    {
     "data": {
      "image/png": "[encoded data removed]",
      "text/plain": [
       "<Figure size 1200x600 with 1 Axes>"
      ]
     },
     "metadata": {},
     "output_type": "display_data"
    }
   ],
   "source": [
    "# create boxplot of ratings at each price level\n",
    "plt.figure(figsize=(12, 6))\n",
    "sns.boxplot(data=df_clean, x='price', y='rating')\n",
    "\n",
    "plt.title('Boxplot of Ratings at Each Price Level')\n",
    "\n",
    "# save boxplot to file\n",
    "plt.savefig('../images/ratings_boxplot.png')\n"
   ]
  },
  {
   "cell_type": "markdown",
   "metadata": {},
   "source": [
    "#### Category Analysis"
   ]
  },
  {
   "cell_type": "code",
   "execution_count": 445,
   "metadata": {},
   "outputs": [
    {
     "data": {
      "image/png": "[encoded data removed]",
      "text/plain": [
       "<Figure size 1000x500 with 1 Axes>"
      ]
     },
     "metadata": {},
     "output_type": "display_data"
    }
   ],
   "source": [
    "# Explode the 'restaurant_categories' column\n",
    "df_exploded = df_clean.explode('restaurant_categories')\n",
    "\n",
    "# Group by 'restaurant_categories' and 'venue_name' to get unique venues in each category\n",
    "unique_venues_in_category = df_exploded.groupby('restaurant_categories')['yelp_venue_id'].nunique()\n",
    "\n",
    "# Sort and get the top 10 categories\n",
    "top_categories = unique_venues_in_category.sort_values(ascending=False).head(10)\n",
    "\n",
    "# Plotting the top categories\n",
    "plt.figure(figsize=(10, 5))\n",
    "top_categories.plot(kind='barh')\n",
    "\n",
    "plt.xlabel('Number of Unique Venues')\n",
    "plt.ylabel('Restaurant Category')\n",
    "plt.title('Top 10 Restaurant Categories by Unique Venue Count')\n",
    "\n",
    "# Save the plot\n",
    "plt.savefig('../images/top_categories_bar.png')\n"
   ]
  },
  {
   "cell_type": "markdown",
   "metadata": {},
   "source": [
    "# Database"
   ]
  },
  {
   "cell_type": "markdown",
   "metadata": {},
   "source": [
    "Put all your results in an SQLite3 database (remember, SQLite stores its databases as files in your local machine - make sure to create your database in your project's data/ directory!)"
   ]
  },
  {
   "cell_type": "markdown",
   "metadata": {},
   "source": [
    "#### Set up database connection and define query functions"
   ]
  },
  {
   "cell_type": "code",
   "execution_count": 175,
   "metadata": {},
   "outputs": [],
   "source": [
    "import sqlite3\n",
    "from sqlite3 import Error\n",
    "\n",
    "def create_connection(path):\n",
    "    connection = None\n",
    "    try:\n",
    "        connection = sqlite3.connect(path)\n",
    "        print(\"Connection to SQLite DB successful\")\n",
    "    except Error as e:\n",
    "        print(f\"The error '{e}' occurred\")\n",
    "\n",
    "    return connection"
   ]
  },
  {
   "cell_type": "code",
   "execution_count": 178,
   "metadata": {},
   "outputs": [
    {
     "name": "stdout",
     "output_type": "stream",
     "text": [
      "Connection to SQLite DB successful\n"
     ]
    }
   ],
   "source": [
    "connection = create_connection(\"../data/database.sqlite\")"
   ]
  },
  {
   "cell_type": "code",
   "execution_count": null,
   "metadata": {},
   "outputs": [],
   "source": [
    "# function for executing CREATE, INSERT, UPDATE, DELETE queries\n",
    "def execute_query(connection, query):\n",
    "    cursor = connection.cursor()\n",
    "    try:\n",
    "        cursor.execute(query)\n",
    "        connection.commit()\n",
    "        print(\"Query executed successfully\")\n",
    "    except Error as e:\n",
    "        print(f\"The error '{e}' occurred\")"
   ]
  },
  {
   "cell_type": "markdown",
   "metadata": {},
   "source": [
    "Look at the data before and after the join to validate your data."
   ]
  },
  {
   "cell_type": "code",
   "execution_count": null,
   "metadata": {},
   "outputs": [],
   "source": [
    "# function to execute query and display results as dataframe\n",
    "def execute_and_display_query(connection, query):\n",
    "    try:\n",
    "        cursor = connection.cursor()\n",
    "        cursor.execute(query)\n",
    "        results = cursor.fetchall()\n",
    "        column_names = [description[0] for description in cursor.description]\n",
    "        df_results = pd.DataFrame(results, columns=column_names)\n",
    "        display(df_results)\n",
    "    except Error as e:\n",
    "        print(f\"The error '{e}' occurred\")\n",
    "    finally:\n",
    "        cursor.close()"
   ]
  },
  {
   "cell_type": "markdown",
   "metadata": {},
   "source": [
    "#### Create and fill venues table"
   ]
  },
  {
   "cell_type": "code",
   "execution_count": 228,
   "metadata": {},
   "outputs": [
    {
     "name": "stdout",
     "output_type": "stream",
     "text": [
      "Query executed successfully\n",
      "Query executed successfully\n"
     ]
    }
   ],
   "source": [
    "drop_venues_table = \"\"\"\n",
    "DROP TABLE IF EXISTS venues;\n",
    "\"\"\"\n",
    "create_venues_table = \"\"\"\n",
    "CREATE TABLE IF NOT EXISTS venues (\n",
    "    venue_id TEXT PRIMARY KEY,\n",
    "    venue_name TEXT NOT NULL,\n",
    "    venue_address TEXT,\n",
    "    price INTEGER,\n",
    "    rating REAL,\n",
    "    review_count INTEGER,\n",
    "    venue_latitude REAL NOT NULL,\n",
    "    venue_longitude REAL NOT NULL\n",
    ");\n",
    "\"\"\"\n",
    "execute_query(connection, drop_venues_table)\n",
    "execute_query(connection, create_venues_table)"
   ]
  },
  {
   "cell_type": "code",
   "execution_count": 229,
   "metadata": {},
   "outputs": [
    {
     "data": {
      "text/plain": [
       "1355"
      ]
     },
     "execution_count": 229,
     "metadata": {},
     "output_type": "execute_result"
    }
   ],
   "source": [
    "# drop duplicates venues from yelp dataframe\n",
    "yelp_df_unique = yelp_df.drop_duplicates(subset='yelp_venue_id')\n",
    "\n",
    "# filter out columns not needed for venues table\n",
    "yelp_df_unique = yelp_df_unique[['yelp_venue_id', 'venue_name', 'venue_address', 'price', 'rating', 'review_count', 'venue_latitude', 'venue_longitude']]\n",
    "\n",
    "# rename columns to match venues table\n",
    "yelp_df_unique = yelp_df_unique.rename(columns={'yelp_venue_id': 'venue_id'})\n",
    "\n",
    "# convert price column to integer (1-4)\n",
    "yelp_df_unique['price'] = yelp_df_unique['price'].map({'$': 1, '$$': 2, '$$$': 3, '$$$$': 4})\n",
    "\n",
    "# load dataframe into venues table\n",
    "yelp_df_unique.to_sql('venues', connection, if_exists='append', index=False)\n"
   ]
  },
  {
   "cell_type": "code",
   "execution_count": 230,
   "metadata": {},
   "outputs": [
    {
     "data": {
      "text/html": [
       "<div>\n",
       "<style scoped>\n",
       "    .dataframe tbody tr th:only-of-type {\n",
       "        vertical-align: middle;\n",
       "    }\n",
       "\n",
       "    .dataframe tbody tr th {\n",
       "        vertical-align: top;\n",
       "    }\n",
       "\n",
       "    .dataframe thead th {\n",
       "        text-align: right;\n",
       "    }\n",
       "</style>\n",
       "<table border=\"1\" class=\"dataframe\">\n",
       "  <thead>\n",
       "    <tr style=\"text-align: right;\">\n",
       "      <th></th>\n",
       "      <th>venue_id</th>\n",
       "      <th>venue_name</th>\n",
       "      <th>venue_address</th>\n",
       "      <th>price</th>\n",
       "      <th>rating</th>\n",
       "      <th>review_count</th>\n",
       "      <th>venue_latitude</th>\n",
       "      <th>venue_longitude</th>\n",
       "    </tr>\n",
       "  </thead>\n",
       "  <tbody>\n",
       "    <tr>\n",
       "      <th>0</th>\n",
       "      <td>6iOAgzJ0DRZNSKA3FSrrOg</td>\n",
       "      <td>La Taqueria Pinche Taco Shop</td>\n",
       "      <td>2450 Yukon Street</td>\n",
       "      <td>2.0</td>\n",
       "      <td>4.0</td>\n",
       "      <td>684</td>\n",
       "      <td>49.263559</td>\n",
       "      <td>-123.112736</td>\n",
       "    </tr>\n",
       "    <tr>\n",
       "      <th>1</th>\n",
       "      <td>nkDZY5xqihF3XtZMzzfqqg</td>\n",
       "      <td>Hokkaido Ramen Santouka</td>\n",
       "      <td>558 W Broadway</td>\n",
       "      <td>2.0</td>\n",
       "      <td>4.0</td>\n",
       "      <td>226</td>\n",
       "      <td>49.263127</td>\n",
       "      <td>-123.116892</td>\n",
       "    </tr>\n",
       "    <tr>\n",
       "      <th>2</th>\n",
       "      <td>XAH2HpuUUtu7CUO26pbs4w</td>\n",
       "      <td>Saku</td>\n",
       "      <td>548 W Broadway</td>\n",
       "      <td>2.0</td>\n",
       "      <td>4.5</td>\n",
       "      <td>236</td>\n",
       "      <td>49.263101</td>\n",
       "      <td>-123.116675</td>\n",
       "    </tr>\n",
       "    <tr>\n",
       "      <th>3</th>\n",
       "      <td>4118Aq9LbkvUr4s719uUkA</td>\n",
       "      <td>Uma Sushi</td>\n",
       "      <td>450 W 8th Avenue</td>\n",
       "      <td>3.0</td>\n",
       "      <td>4.5</td>\n",
       "      <td>117</td>\n",
       "      <td>49.263805</td>\n",
       "      <td>-123.113729</td>\n",
       "    </tr>\n",
       "    <tr>\n",
       "      <th>4</th>\n",
       "      <td>F5wxgIiZE7LYQxgqhI483A</td>\n",
       "      <td>Seaport City Seafood Restaurant</td>\n",
       "      <td>2425 Cambie Street</td>\n",
       "      <td>NaN</td>\n",
       "      <td>4.0</td>\n",
       "      <td>35</td>\n",
       "      <td>49.263921</td>\n",
       "      <td>-123.115152</td>\n",
       "    </tr>\n",
       "    <tr>\n",
       "      <th>...</th>\n",
       "      <td>...</td>\n",
       "      <td>...</td>\n",
       "      <td>...</td>\n",
       "      <td>...</td>\n",
       "      <td>...</td>\n",
       "      <td>...</td>\n",
       "      <td>...</td>\n",
       "      <td>...</td>\n",
       "    </tr>\n",
       "    <tr>\n",
       "      <th>1350</th>\n",
       "      <td>m6nubWiUgg0gjEOLcKg8uA</td>\n",
       "      <td>Sasamat Seafood Market</td>\n",
       "      <td>4513 10th Ave W</td>\n",
       "      <td>1.0</td>\n",
       "      <td>3.0</td>\n",
       "      <td>5</td>\n",
       "      <td>49.263988</td>\n",
       "      <td>-123.209566</td>\n",
       "    </tr>\n",
       "    <tr>\n",
       "      <th>1351</th>\n",
       "      <td>luaK3Xrqr42QMU6F-LLm9Q</td>\n",
       "      <td>Hime Sushi</td>\n",
       "      <td>4490 10th Avenue W</td>\n",
       "      <td>NaN</td>\n",
       "      <td>3.5</td>\n",
       "      <td>2</td>\n",
       "      <td>49.263686</td>\n",
       "      <td>-123.208734</td>\n",
       "    </tr>\n",
       "    <tr>\n",
       "      <th>1352</th>\n",
       "      <td>HDw5Dqqwbcym7123exU1Sw</td>\n",
       "      <td>Danoo Cafe</td>\n",
       "      <td>4462 10th Avenue W</td>\n",
       "      <td>NaN</td>\n",
       "      <td>3.5</td>\n",
       "      <td>8</td>\n",
       "      <td>49.263691</td>\n",
       "      <td>-123.208146</td>\n",
       "    </tr>\n",
       "    <tr>\n",
       "      <th>1353</th>\n",
       "      <td>iPujVXzNJ-NYjhylcjSFxw</td>\n",
       "      <td>Domino's Pizza</td>\n",
       "      <td>4426 10th Avenue W</td>\n",
       "      <td>NaN</td>\n",
       "      <td>5.0</td>\n",
       "      <td>1</td>\n",
       "      <td>49.263665</td>\n",
       "      <td>-123.206821</td>\n",
       "    </tr>\n",
       "    <tr>\n",
       "      <th>1354</th>\n",
       "      <td>8GiUobn2TsWF-3oXC9s_DA</td>\n",
       "      <td>Pizza Hut</td>\n",
       "      <td>4540 West 10th Avenue</td>\n",
       "      <td>NaN</td>\n",
       "      <td>2.0</td>\n",
       "      <td>10</td>\n",
       "      <td>49.263736</td>\n",
       "      <td>-123.210571</td>\n",
       "    </tr>\n",
       "  </tbody>\n",
       "</table>\n",
       "<p>1355 rows × 8 columns</p>\n",
       "</div>"
      ],
      "text/plain": [
       "                    venue_id                       venue_name  \\\n",
       "0     6iOAgzJ0DRZNSKA3FSrrOg     La Taqueria Pinche Taco Shop   \n",
       "1     nkDZY5xqihF3XtZMzzfqqg          Hokkaido Ramen Santouka   \n",
       "2     XAH2HpuUUtu7CUO26pbs4w                             Saku   \n",
       "3     4118Aq9LbkvUr4s719uUkA                        Uma Sushi   \n",
       "4     F5wxgIiZE7LYQxgqhI483A  Seaport City Seafood Restaurant   \n",
       "...                      ...                              ...   \n",
       "1350  m6nubWiUgg0gjEOLcKg8uA           Sasamat Seafood Market   \n",
       "1351  luaK3Xrqr42QMU6F-LLm9Q                       Hime Sushi   \n",
       "1352  HDw5Dqqwbcym7123exU1Sw                       Danoo Cafe   \n",
       "1353  iPujVXzNJ-NYjhylcjSFxw                   Domino's Pizza   \n",
       "1354  8GiUobn2TsWF-3oXC9s_DA                        Pizza Hut   \n",
       "\n",
       "              venue_address  price  rating  review_count  venue_latitude  \\\n",
       "0         2450 Yukon Street    2.0     4.0           684       49.263559   \n",
       "1            558 W Broadway    2.0     4.0           226       49.263127   \n",
       "2            548 W Broadway    2.0     4.5           236       49.263101   \n",
       "3          450 W 8th Avenue    3.0     4.5           117       49.263805   \n",
       "4        2425 Cambie Street    NaN     4.0            35       49.263921   \n",
       "...                     ...    ...     ...           ...             ...   \n",
       "1350        4513 10th Ave W    1.0     3.0             5       49.263988   \n",
       "1351     4490 10th Avenue W    NaN     3.5             2       49.263686   \n",
       "1352     4462 10th Avenue W    NaN     3.5             8       49.263691   \n",
       "1353     4426 10th Avenue W    NaN     5.0             1       49.263665   \n",
       "1354  4540 West 10th Avenue    NaN     2.0            10       49.263736   \n",
       "\n",
       "      venue_longitude  \n",
       "0         -123.112736  \n",
       "1         -123.116892  \n",
       "2         -123.116675  \n",
       "3         -123.113729  \n",
       "4         -123.115152  \n",
       "...               ...  \n",
       "1350      -123.209566  \n",
       "1351      -123.208734  \n",
       "1352      -123.208146  \n",
       "1353      -123.206821  \n",
       "1354      -123.210571  \n",
       "\n",
       "[1355 rows x 8 columns]"
      ]
     },
     "metadata": {},
     "output_type": "display_data"
    }
   ],
   "source": [
    "# test venues table query\n",
    "query = 'SELECT * FROM venues'\n",
    "execute_and_display_query(connection, query)"
   ]
  },
  {
   "cell_type": "markdown",
   "metadata": {},
   "source": [
    "#### Create and fill stations table"
   ]
  },
  {
   "cell_type": "code",
   "execution_count": 263,
   "metadata": {},
   "outputs": [
    {
     "name": "stdout",
     "output_type": "stream",
     "text": [
      "Query executed successfully\n",
      "Query executed successfully\n"
     ]
    }
   ],
   "source": [
    "drop_stations_table = \"\"\"\n",
    "DROP TABLE IF EXISTS stations;\n",
    "\"\"\"\n",
    "create_stations_table = \"\"\"\n",
    "CREATE TABLE IF NOT EXISTS stations (\n",
    "    station_id TEXT PRIMARY KEY,\n",
    "    station_name TEXT NOT NULL,\n",
    "    total_slots INTEGER,\n",
    "    empty_slots INTEGER,\n",
    "    total_bikes_available INTEGER,\n",
    "    normal_bikes_available INTEGER,\n",
    "    ebikes_available INTEGER,\n",
    "    can_rent BOOLEAN,\n",
    "    can_return BOOLEAN,\n",
    "    station_latitude REAL NOT NULL,\n",
    "    station_longitude REAL NOT NULL\n",
    ");\n",
    "\"\"\"\n",
    "execute_query(connection, drop_stations_table)\n",
    "execute_query(connection, create_stations_table)"
   ]
  },
  {
   "cell_type": "code",
   "execution_count": 264,
   "metadata": {},
   "outputs": [
    {
     "data": {
      "text/plain": [
       "248"
      ]
     },
     "execution_count": 264,
     "metadata": {},
     "output_type": "execute_result"
    }
   ],
   "source": [
    "# prep citybikes dataframe for loading into stations table\n",
    "\n",
    "# filter out columns not needed for stations table\n",
    "stations_df = citybikes_df[['station_id', 'station_name', 'total_slots', 'empty_slots', 'total_bikes_available', 'normal_bikes_available', 'ebikes_available', 'can_rent', 'can_return', 'station_latitude', 'station_longitude']]\n",
    "\n",
    "# load dataframe into stations table\n",
    "stations_df.to_sql('stations', connection, if_exists='append', index=False)"
   ]
  },
  {
   "cell_type": "code",
   "execution_count": 265,
   "metadata": {},
   "outputs": [
    {
     "data": {
      "text/html": [
       "<div>\n",
       "<style scoped>\n",
       "    .dataframe tbody tr th:only-of-type {\n",
       "        vertical-align: middle;\n",
       "    }\n",
       "\n",
       "    .dataframe tbody tr th {\n",
       "        vertical-align: top;\n",
       "    }\n",
       "\n",
       "    .dataframe thead th {\n",
       "        text-align: right;\n",
       "    }\n",
       "</style>\n",
       "<table border=\"1\" class=\"dataframe\">\n",
       "  <thead>\n",
       "    <tr style=\"text-align: right;\">\n",
       "      <th></th>\n",
       "      <th>station_id</th>\n",
       "      <th>station_name</th>\n",
       "      <th>total_slots</th>\n",
       "      <th>empty_slots</th>\n",
       "      <th>total_bikes_available</th>\n",
       "      <th>normal_bikes_available</th>\n",
       "      <th>ebikes_available</th>\n",
       "      <th>can_rent</th>\n",
       "      <th>can_return</th>\n",
       "      <th>station_latitude</th>\n",
       "      <th>station_longitude</th>\n",
       "    </tr>\n",
       "  </thead>\n",
       "  <tbody>\n",
       "    <tr>\n",
       "      <th>0</th>\n",
       "      <td>7a19c49f486d7c0c02b3685d7b240448</td>\n",
       "      <td>10th &amp; Cambie</td>\n",
       "      <td>36</td>\n",
       "      <td>13</td>\n",
       "      <td>22</td>\n",
       "      <td>17</td>\n",
       "      <td>5</td>\n",
       "      <td>1</td>\n",
       "      <td>1</td>\n",
       "      <td>49.262487</td>\n",
       "      <td>-123.114397</td>\n",
       "    </tr>\n",
       "    <tr>\n",
       "      <th>1</th>\n",
       "      <td>32603a87cfca71d0f7dfa3513bad69d5</td>\n",
       "      <td>Yaletown-Roundhouse Station</td>\n",
       "      <td>16</td>\n",
       "      <td>11</td>\n",
       "      <td>5</td>\n",
       "      <td>4</td>\n",
       "      <td>1</td>\n",
       "      <td>1</td>\n",
       "      <td>1</td>\n",
       "      <td>49.274566</td>\n",
       "      <td>-123.121817</td>\n",
       "    </tr>\n",
       "    <tr>\n",
       "      <th>2</th>\n",
       "      <td>6d42fa40360f9a6b2bf641c7b8bb2862</td>\n",
       "      <td>Dunsmuir &amp; Beatty</td>\n",
       "      <td>26</td>\n",
       "      <td>1</td>\n",
       "      <td>25</td>\n",
       "      <td>21</td>\n",
       "      <td>4</td>\n",
       "      <td>1</td>\n",
       "      <td>1</td>\n",
       "      <td>49.279764</td>\n",
       "      <td>-123.110154</td>\n",
       "    </tr>\n",
       "    <tr>\n",
       "      <th>3</th>\n",
       "      <td>66f873d641d448bd1572ab086665a458</td>\n",
       "      <td>12th &amp; Yukon (City Hall)</td>\n",
       "      <td>16</td>\n",
       "      <td>13</td>\n",
       "      <td>2</td>\n",
       "      <td>1</td>\n",
       "      <td>1</td>\n",
       "      <td>1</td>\n",
       "      <td>1</td>\n",
       "      <td>49.260599</td>\n",
       "      <td>-123.113504</td>\n",
       "    </tr>\n",
       "    <tr>\n",
       "      <th>4</th>\n",
       "      <td>485d4d24c803cfde829ab89699fed833</td>\n",
       "      <td>8th &amp; Ash</td>\n",
       "      <td>16</td>\n",
       "      <td>9</td>\n",
       "      <td>7</td>\n",
       "      <td>2</td>\n",
       "      <td>5</td>\n",
       "      <td>1</td>\n",
       "      <td>1</td>\n",
       "      <td>49.264215</td>\n",
       "      <td>-123.117772</td>\n",
       "    </tr>\n",
       "    <tr>\n",
       "      <th>...</th>\n",
       "      <td>...</td>\n",
       "      <td>...</td>\n",
       "      <td>...</td>\n",
       "      <td>...</td>\n",
       "      <td>...</td>\n",
       "      <td>...</td>\n",
       "      <td>...</td>\n",
       "      <td>...</td>\n",
       "      <td>...</td>\n",
       "      <td>...</td>\n",
       "      <td>...</td>\n",
       "    </tr>\n",
       "    <tr>\n",
       "      <th>243</th>\n",
       "      <td>db1e56a71a3279f51301d732ee5a055b</td>\n",
       "      <td>IK Barber Learning Centre</td>\n",
       "      <td>20</td>\n",
       "      <td>16</td>\n",
       "      <td>4</td>\n",
       "      <td>1</td>\n",
       "      <td>3</td>\n",
       "      <td>1</td>\n",
       "      <td>1</td>\n",
       "      <td>49.267561</td>\n",
       "      <td>-123.252261</td>\n",
       "    </tr>\n",
       "    <tr>\n",
       "      <th>244</th>\n",
       "      <td>5726de7c5646b82f7aaeafba50aee03e</td>\n",
       "      <td>War Memorial Gym</td>\n",
       "      <td>28</td>\n",
       "      <td>17</td>\n",
       "      <td>11</td>\n",
       "      <td>1</td>\n",
       "      <td>10</td>\n",
       "      <td>1</td>\n",
       "      <td>1</td>\n",
       "      <td>49.266579</td>\n",
       "      <td>-123.248549</td>\n",
       "    </tr>\n",
       "    <tr>\n",
       "      <th>245</th>\n",
       "      <td>cde61c70e5556ee2fe3ceb9d958b6482</td>\n",
       "      <td>Pharmaceutical Sciences</td>\n",
       "      <td>24</td>\n",
       "      <td>15</td>\n",
       "      <td>9</td>\n",
       "      <td>0</td>\n",
       "      <td>9</td>\n",
       "      <td>1</td>\n",
       "      <td>1</td>\n",
       "      <td>49.262620</td>\n",
       "      <td>-123.243100</td>\n",
       "    </tr>\n",
       "    <tr>\n",
       "      <th>246</th>\n",
       "      <td>852212d6d52b5f00544fad01d21c7db2</td>\n",
       "      <td>Georgia &amp; Main</td>\n",
       "      <td>0</td>\n",
       "      <td>0</td>\n",
       "      <td>0</td>\n",
       "      <td>0</td>\n",
       "      <td>0</td>\n",
       "      <td>0</td>\n",
       "      <td>0</td>\n",
       "      <td>49.278529</td>\n",
       "      <td>-123.100017</td>\n",
       "    </tr>\n",
       "    <tr>\n",
       "      <th>247</th>\n",
       "      <td>3dae5d936bb6b222d135eff52833e7f4</td>\n",
       "      <td>Bute &amp; Davie</td>\n",
       "      <td>20</td>\n",
       "      <td>10</td>\n",
       "      <td>9</td>\n",
       "      <td>7</td>\n",
       "      <td>2</td>\n",
       "      <td>1</td>\n",
       "      <td>1</td>\n",
       "      <td>49.282047</td>\n",
       "      <td>-123.133057</td>\n",
       "    </tr>\n",
       "  </tbody>\n",
       "</table>\n",
       "<p>248 rows × 11 columns</p>\n",
       "</div>"
      ],
      "text/plain": [
       "                           station_id                 station_name  \\\n",
       "0    7a19c49f486d7c0c02b3685d7b240448                10th & Cambie   \n",
       "1    32603a87cfca71d0f7dfa3513bad69d5  Yaletown-Roundhouse Station   \n",
       "2    6d42fa40360f9a6b2bf641c7b8bb2862            Dunsmuir & Beatty   \n",
       "3    66f873d641d448bd1572ab086665a458     12th & Yukon (City Hall)   \n",
       "4    485d4d24c803cfde829ab89699fed833                    8th & Ash   \n",
       "..                                ...                          ...   \n",
       "243  db1e56a71a3279f51301d732ee5a055b    IK Barber Learning Centre   \n",
       "244  5726de7c5646b82f7aaeafba50aee03e             War Memorial Gym   \n",
       "245  cde61c70e5556ee2fe3ceb9d958b6482      Pharmaceutical Sciences   \n",
       "246  852212d6d52b5f00544fad01d21c7db2               Georgia & Main   \n",
       "247  3dae5d936bb6b222d135eff52833e7f4                 Bute & Davie   \n",
       "\n",
       "     total_slots  empty_slots  total_bikes_available  normal_bikes_available  \\\n",
       "0             36           13                     22                      17   \n",
       "1             16           11                      5                       4   \n",
       "2             26            1                     25                      21   \n",
       "3             16           13                      2                       1   \n",
       "4             16            9                      7                       2   \n",
       "..           ...          ...                    ...                     ...   \n",
       "243           20           16                      4                       1   \n",
       "244           28           17                     11                       1   \n",
       "245           24           15                      9                       0   \n",
       "246            0            0                      0                       0   \n",
       "247           20           10                      9                       7   \n",
       "\n",
       "     ebikes_available  can_rent  can_return  station_latitude  \\\n",
       "0                   5         1           1         49.262487   \n",
       "1                   1         1           1         49.274566   \n",
       "2                   4         1           1         49.279764   \n",
       "3                   1         1           1         49.260599   \n",
       "4                   5         1           1         49.264215   \n",
       "..                ...       ...         ...               ...   \n",
       "243                 3         1           1         49.267561   \n",
       "244                10         1           1         49.266579   \n",
       "245                 9         1           1         49.262620   \n",
       "246                 0         0           0         49.278529   \n",
       "247                 2         1           1         49.282047   \n",
       "\n",
       "     station_longitude  \n",
       "0          -123.114397  \n",
       "1          -123.121817  \n",
       "2          -123.110154  \n",
       "3          -123.113504  \n",
       "4          -123.117772  \n",
       "..                 ...  \n",
       "243        -123.252261  \n",
       "244        -123.248549  \n",
       "245        -123.243100  \n",
       "246        -123.100017  \n",
       "247        -123.133057  \n",
       "\n",
       "[248 rows x 11 columns]"
      ]
     },
     "metadata": {},
     "output_type": "display_data"
    }
   ],
   "source": [
    "# test stations table query\n",
    "query = 'SELECT * FROM stations'\n",
    "execute_and_display_query(connection, query)"
   ]
  },
  {
   "cell_type": "markdown",
   "metadata": {},
   "source": [
    "#### Create and fill venue_station_distance table"
   ]
  },
  {
   "cell_type": "code",
   "execution_count": null,
   "metadata": {},
   "outputs": [],
   "source": [
    "drop_vsd_table = \"\"\"\n",
    "DROP TABLE IF EXISTS venues;\n",
    "\"\"\"\n",
    "\n",
    "create_venue_station_distance_table = \"\"\"\n",
    "CREATE TABLE IF NOT EXISTS venue_station_distance (\n",
    "    venue_id INTEGER,\n",
    "    station_id INTEGER,\n",
    "    distance REAL NOT NULL,\n",
    "    FOREIGN KEY (venue_id) REFERENCES venues (venue_id),\n",
    "    FOREIGN KEY (station_id) REFERENCES stations (station_id),\n",
    "    PRIMARY KEY (venue_id, station_id)\n",
    ");\n",
    "\"\"\"\n",
    "execute_query(connection, drop_vsd_table)\n",
    "execute_query(connection, create_venues_table)"
   ]
  },
  {
   "cell_type": "code",
   "execution_count": 196,
   "metadata": {},
   "outputs": [],
   "source": [
    "# venue_station_distance table: prepare data and insert\n",
    "\n",
    "venue_station_distance_df = df[['yelp_venue_id', 'station_id', 'venue_to_station_distance']]\n",
    "# rename columns to match database table\n",
    "venue_station_distance_df.columns = ['venue_id', 'station_id', 'distance']\n",
    "# drop duplicates\n",
    "venue_station_distance_df = venue_station_distance_df.drop_duplicates()\n",
    "\n",
    "# load dataframe into database table\n",
    "venue_station_distance_df.to_sql('venue_station_distance', connection, if_exists='append', index=False)"
   ]
  },
  {
   "cell_type": "code",
   "execution_count": null,
   "metadata": {},
   "outputs": [
    {
     "data": {
      "text/html": [
       "<div>\n",
       "<style scoped>\n",
       "    .dataframe tbody tr th:only-of-type {\n",
       "        vertical-align: middle;\n",
       "    }\n",
       "\n",
       "    .dataframe tbody tr th {\n",
       "        vertical-align: top;\n",
       "    }\n",
       "\n",
       "    .dataframe thead th {\n",
       "        text-align: right;\n",
       "    }\n",
       "</style>\n",
       "<table border=\"1\" class=\"dataframe\">\n",
       "  <thead>\n",
       "    <tr style=\"text-align: right;\">\n",
       "      <th></th>\n",
       "      <th>venue_id</th>\n",
       "      <th>station_id</th>\n",
       "      <th>distance</th>\n",
       "    </tr>\n",
       "  </thead>\n",
       "  <tbody>\n",
       "    <tr>\n",
       "      <th>0</th>\n",
       "      <td>31ag-M_QiaycGQrvAi169w</td>\n",
       "      <td>7a19c49f486d7c0c02b3685d7b240448</td>\n",
       "      <td>69.661406</td>\n",
       "    </tr>\n",
       "    <tr>\n",
       "      <th>1</th>\n",
       "      <td>1AA4EjIIXywxOSnbyZ9vLA</td>\n",
       "      <td>7a19c49f486d7c0c02b3685d7b240448</td>\n",
       "      <td>98.307524</td>\n",
       "    </tr>\n",
       "    <tr>\n",
       "      <th>2</th>\n",
       "      <td>NdEPf2Ls5Ql3_nkwjqKvXA</td>\n",
       "      <td>32603a87cfca71d0f7dfa3513bad69d5</td>\n",
       "      <td>54.990917</td>\n",
       "    </tr>\n",
       "    <tr>\n",
       "      <th>3</th>\n",
       "      <td>mkqiEUO9KZbYtFPaDGxT0w</td>\n",
       "      <td>32603a87cfca71d0f7dfa3513bad69d5</td>\n",
       "      <td>32.136642</td>\n",
       "    </tr>\n",
       "    <tr>\n",
       "      <th>4</th>\n",
       "      <td>zSVlSPVRWk2I9u28cE8brw</td>\n",
       "      <td>32603a87cfca71d0f7dfa3513bad69d5</td>\n",
       "      <td>99.754418</td>\n",
       "    </tr>\n",
       "    <tr>\n",
       "      <th>...</th>\n",
       "      <td>...</td>\n",
       "      <td>...</td>\n",
       "      <td>...</td>\n",
       "    </tr>\n",
       "    <tr>\n",
       "      <th>535</th>\n",
       "      <td>jI_ZG0HkmjDwEIJAimXFIw</td>\n",
       "      <td>34fd37d12eb989b49518ef53941ee3ff</td>\n",
       "      <td>83.739606</td>\n",
       "    </tr>\n",
       "    <tr>\n",
       "      <th>536</th>\n",
       "      <td>m6nubWiUgg0gjEOLcKg8uA</td>\n",
       "      <td>34fd37d12eb989b49518ef53941ee3ff</td>\n",
       "      <td>21.521761</td>\n",
       "    </tr>\n",
       "    <tr>\n",
       "      <th>537</th>\n",
       "      <td>luaK3Xrqr42QMU6F-LLm9Q</td>\n",
       "      <td>34fd37d12eb989b49518ef53941ee3ff</td>\n",
       "      <td>48.977551</td>\n",
       "    </tr>\n",
       "    <tr>\n",
       "      <th>538</th>\n",
       "      <td>HDw5Dqqwbcym7123exU1Sw</td>\n",
       "      <td>34fd37d12eb989b49518ef53941ee3ff</td>\n",
       "      <td>81.173096</td>\n",
       "    </tr>\n",
       "    <tr>\n",
       "      <th>539</th>\n",
       "      <td>8GiUobn2TsWF-3oXC9s_DA</td>\n",
       "      <td>34fd37d12eb989b49518ef53941ee3ff</td>\n",
       "      <td>98.708531</td>\n",
       "    </tr>\n",
       "  </tbody>\n",
       "</table>\n",
       "<p>540 rows × 3 columns</p>\n",
       "</div>"
      ],
      "text/plain": [
       "                   venue_id                        station_id   distance\n",
       "0    31ag-M_QiaycGQrvAi169w  7a19c49f486d7c0c02b3685d7b240448  69.661406\n",
       "1    1AA4EjIIXywxOSnbyZ9vLA  7a19c49f486d7c0c02b3685d7b240448  98.307524\n",
       "2    NdEPf2Ls5Ql3_nkwjqKvXA  32603a87cfca71d0f7dfa3513bad69d5  54.990917\n",
       "3    mkqiEUO9KZbYtFPaDGxT0w  32603a87cfca71d0f7dfa3513bad69d5  32.136642\n",
       "4    zSVlSPVRWk2I9u28cE8brw  32603a87cfca71d0f7dfa3513bad69d5  99.754418\n",
       "..                      ...                               ...        ...\n",
       "535  jI_ZG0HkmjDwEIJAimXFIw  34fd37d12eb989b49518ef53941ee3ff  83.739606\n",
       "536  m6nubWiUgg0gjEOLcKg8uA  34fd37d12eb989b49518ef53941ee3ff  21.521761\n",
       "537  luaK3Xrqr42QMU6F-LLm9Q  34fd37d12eb989b49518ef53941ee3ff  48.977551\n",
       "538  HDw5Dqqwbcym7123exU1Sw  34fd37d12eb989b49518ef53941ee3ff  81.173096\n",
       "539  8GiUobn2TsWF-3oXC9s_DA  34fd37d12eb989b49518ef53941ee3ff  98.708531\n",
       "\n",
       "[540 rows x 3 columns]"
      ]
     },
     "metadata": {},
     "output_type": "display_data"
    }
   ],
   "source": [
    "# test query\n",
    "query = 'SELECT * FROM venue_station_distance WHERE distance < 100'\n",
    "execute_and_display_query(connection, query)"
   ]
  },
  {
   "cell_type": "markdown",
   "metadata": {},
   "source": [
    "#### Create and fill categories table"
   ]
  },
  {
   "cell_type": "code",
   "execution_count": 266,
   "metadata": {},
   "outputs": [
    {
     "name": "stdout",
     "output_type": "stream",
     "text": [
      "Query executed successfully\n",
      "Query executed successfully\n"
     ]
    }
   ],
   "source": [
    "drop_categories_table = \"\"\"\n",
    "DROP TABLE IF EXISTS categories;\n",
    "\"\"\"\n",
    "create_categories_table = \"\"\"\n",
    "CREATE TABLE IF NOT EXISTS categories (\n",
    "    category_id TEXT PRIMARY KEY,\n",
    "    category_name TEXT NOT NULL\n",
    ");\n",
    "\"\"\"\n",
    "execute_query(connection, drop_categories_table)\n",
    "execute_query(connection, create_categories_table)"
   ]
  },
  {
   "cell_type": "code",
   "execution_count": 267,
   "metadata": {},
   "outputs": [
    {
     "data": {
      "text/plain": [
       "161"
      ]
     },
     "execution_count": 267,
     "metadata": {},
     "output_type": "execute_result"
    }
   ],
   "source": [
    "# prep cateogries dataframe for loading into categories table\n",
    "\n",
    "unique_categories = set(category for sublist in yelp_df['restaurant_categories'] for category in sublist)\n",
    "categories_df = pd.DataFrame(list(unique_categories), columns=['category_name'])\n",
    "# put into alphabetical order\n",
    "categories_df = categories_df.sort_values(by=['category_name'])\n",
    "# add category_id column as primary key\n",
    "categories_df['category_id'] = range(1, len(categories_df) + 1)\n",
    "# convert category_id to string\n",
    "categories_df['category_id'] = categories_df['category_id'].astype(str)\n",
    "\n",
    "# pad index with leading zeros\n",
    "categories_df['category_id'] = categories_df['category_id'].apply(lambda x: x.zfill(3))\n",
    "\n",
    "# load dataframe into categories table\n",
    "categories_df.to_sql('categories', connection, if_exists='append', index=False)"
   ]
  },
  {
   "cell_type": "code",
   "execution_count": 268,
   "metadata": {},
   "outputs": [
    {
     "data": {
      "text/html": [
       "<div>\n",
       "<style scoped>\n",
       "    .dataframe tbody tr th:only-of-type {\n",
       "        vertical-align: middle;\n",
       "    }\n",
       "\n",
       "    .dataframe tbody tr th {\n",
       "        vertical-align: top;\n",
       "    }\n",
       "\n",
       "    .dataframe thead th {\n",
       "        text-align: right;\n",
       "    }\n",
       "</style>\n",
       "<table border=\"1\" class=\"dataframe\">\n",
       "  <thead>\n",
       "    <tr style=\"text-align: right;\">\n",
       "      <th></th>\n",
       "      <th>category_id</th>\n",
       "      <th>category_name</th>\n",
       "    </tr>\n",
       "  </thead>\n",
       "  <tbody>\n",
       "    <tr>\n",
       "      <th>0</th>\n",
       "      <td>001</td>\n",
       "      <td>Acai Bowls</td>\n",
       "    </tr>\n",
       "    <tr>\n",
       "      <th>1</th>\n",
       "      <td>002</td>\n",
       "      <td>Afghan</td>\n",
       "    </tr>\n",
       "    <tr>\n",
       "      <th>2</th>\n",
       "      <td>003</td>\n",
       "      <td>African</td>\n",
       "    </tr>\n",
       "    <tr>\n",
       "      <th>3</th>\n",
       "      <td>004</td>\n",
       "      <td>American</td>\n",
       "    </tr>\n",
       "    <tr>\n",
       "      <th>4</th>\n",
       "      <td>005</td>\n",
       "      <td>Arabic</td>\n",
       "    </tr>\n",
       "    <tr>\n",
       "      <th>...</th>\n",
       "      <td>...</td>\n",
       "      <td>...</td>\n",
       "    </tr>\n",
       "    <tr>\n",
       "      <th>156</th>\n",
       "      <td>157</td>\n",
       "      <td>Venues &amp; Event Spaces</td>\n",
       "    </tr>\n",
       "    <tr>\n",
       "      <th>157</th>\n",
       "      <td>158</td>\n",
       "      <td>Vietnamese</td>\n",
       "    </tr>\n",
       "    <tr>\n",
       "      <th>158</th>\n",
       "      <td>159</td>\n",
       "      <td>Waffles</td>\n",
       "    </tr>\n",
       "    <tr>\n",
       "      <th>159</th>\n",
       "      <td>160</td>\n",
       "      <td>Whiskey Bars</td>\n",
       "    </tr>\n",
       "    <tr>\n",
       "      <th>160</th>\n",
       "      <td>161</td>\n",
       "      <td>Wine Bars</td>\n",
       "    </tr>\n",
       "  </tbody>\n",
       "</table>\n",
       "<p>161 rows × 2 columns</p>\n",
       "</div>"
      ],
      "text/plain": [
       "    category_id          category_name\n",
       "0           001             Acai Bowls\n",
       "1           002                 Afghan\n",
       "2           003                African\n",
       "3           004               American\n",
       "4           005                 Arabic\n",
       "..          ...                    ...\n",
       "156         157  Venues & Event Spaces\n",
       "157         158             Vietnamese\n",
       "158         159                Waffles\n",
       "159         160           Whiskey Bars\n",
       "160         161              Wine Bars\n",
       "\n",
       "[161 rows x 2 columns]"
      ]
     },
     "metadata": {},
     "output_type": "display_data"
    }
   ],
   "source": [
    "# test stations table query\n",
    "query = 'SELECT * FROM categories'\n",
    "execute_and_display_query(connection, query)"
   ]
  },
  {
   "cell_type": "markdown",
   "metadata": {},
   "source": [
    "#### Create and fill venue_categories table"
   ]
  },
  {
   "cell_type": "code",
   "execution_count": 297,
   "metadata": {},
   "outputs": [
    {
     "name": "stdout",
     "output_type": "stream",
     "text": [
      "Query executed successfully\n",
      "Query executed successfully\n"
     ]
    }
   ],
   "source": [
    "drop_venue_categories_table = \"\"\"\n",
    "DROP TABLE IF EXISTS venue_categories;\n",
    "\"\"\"\n",
    "create_venue_categories_table = \"\"\"\n",
    "CREATE TABLE IF NOT EXISTS venue_categories (\n",
    "    venue_id TEXT,\n",
    "    category_id TEXT,\n",
    "    FOREIGN KEY (venue_id) REFERENCES venues (venue_id),\n",
    "    FOREIGN KEY (category_id) REFERENCES categories (category_id),\n",
    "    PRIMARY KEY (venue_id, category_id)\n",
    ");\n",
    "\"\"\"\n",
    "execute_query(connection, drop_venue_categories_table)\n",
    "execute_query(connection, create_venue_categories_table)"
   ]
  },
  {
   "cell_type": "code",
   "execution_count": 298,
   "metadata": {},
   "outputs": [
    {
     "data": {
      "text/plain": [
       "2743"
      ]
     },
     "execution_count": 298,
     "metadata": {},
     "output_type": "execute_result"
    }
   ],
   "source": [
    "# Create a DataFrame for venue-category relationships\n",
    "\n",
    "# create dataframe of unique venues and categories\n",
    "unique_venues = yelp_df[['yelp_venue_id', 'restaurant_categories']].drop_duplicates(subset='yelp_venue_id')\n",
    "\n",
    "# explode restaurant_categories column so each row has one category\n",
    "unique_venues = unique_venues.explode('restaurant_categories')\n",
    "# rename columns to match database table\n",
    "unique_venues.columns = ['venue_id', 'category_name']\n",
    "# merge with categories dataframe to get category_id\n",
    "unique_venues = unique_venues.merge(categories_df, on='category_name', how='left')\n",
    "# drop category_name column (normalization)\n",
    "unique_venues.drop(['category_name'], axis=1, inplace=True)\n",
    "\n",
    "# load dataframe into database table\n",
    "unique_venues.to_sql('venue_categories', connection, if_exists='append', index=False)"
   ]
  },
  {
   "cell_type": "code",
   "execution_count": 475,
   "metadata": {},
   "outputs": [
    {
     "data": {
      "text/html": [
       "<div>\n",
       "<style scoped>\n",
       "    .dataframe tbody tr th:only-of-type {\n",
       "        vertical-align: middle;\n",
       "    }\n",
       "\n",
       "    .dataframe tbody tr th {\n",
       "        vertical-align: top;\n",
       "    }\n",
       "\n",
       "    .dataframe thead th {\n",
       "        text-align: right;\n",
       "    }\n",
       "</style>\n",
       "<table border=\"1\" class=\"dataframe\">\n",
       "  <thead>\n",
       "    <tr style=\"text-align: right;\">\n",
       "      <th></th>\n",
       "      <th>venue_id</th>\n",
       "      <th>category_id</th>\n",
       "    </tr>\n",
       "  </thead>\n",
       "  <tbody>\n",
       "    <tr>\n",
       "      <th>0</th>\n",
       "      <td>6iOAgzJ0DRZNSKA3FSrrOg</td>\n",
       "      <td>101</td>\n",
       "    </tr>\n",
       "    <tr>\n",
       "      <th>1</th>\n",
       "      <td>nkDZY5xqihF3XtZMzzfqqg</td>\n",
       "      <td>107</td>\n",
       "    </tr>\n",
       "    <tr>\n",
       "      <th>2</th>\n",
       "      <td>nkDZY5xqihF3XtZMzzfqqg</td>\n",
       "      <td>126</td>\n",
       "    </tr>\n",
       "    <tr>\n",
       "      <th>3</th>\n",
       "      <td>nkDZY5xqihF3XtZMzzfqqg</td>\n",
       "      <td>135</td>\n",
       "    </tr>\n",
       "    <tr>\n",
       "      <th>4</th>\n",
       "      <td>XAH2HpuUUtu7CUO26pbs4w</td>\n",
       "      <td>087</td>\n",
       "    </tr>\n",
       "    <tr>\n",
       "      <th>...</th>\n",
       "      <td>...</td>\n",
       "      <td>...</td>\n",
       "    </tr>\n",
       "    <tr>\n",
       "      <th>2738</th>\n",
       "      <td>iPujVXzNJ-NYjhylcjSFxw</td>\n",
       "      <td>035</td>\n",
       "    </tr>\n",
       "    <tr>\n",
       "      <th>2739</th>\n",
       "      <td>iPujVXzNJ-NYjhylcjSFxw</td>\n",
       "      <td>129</td>\n",
       "    </tr>\n",
       "    <tr>\n",
       "      <th>2740</th>\n",
       "      <td>8GiUobn2TsWF-3oXC9s_DA</td>\n",
       "      <td>117</td>\n",
       "    </tr>\n",
       "    <tr>\n",
       "      <th>2741</th>\n",
       "      <td>8GiUobn2TsWF-3oXC9s_DA</td>\n",
       "      <td>035</td>\n",
       "    </tr>\n",
       "    <tr>\n",
       "      <th>2742</th>\n",
       "      <td>8GiUobn2TsWF-3oXC9s_DA</td>\n",
       "      <td>058</td>\n",
       "    </tr>\n",
       "  </tbody>\n",
       "</table>\n",
       "<p>2743 rows × 2 columns</p>\n",
       "</div>"
      ],
      "text/plain": [
       "                    venue_id category_id\n",
       "0     6iOAgzJ0DRZNSKA3FSrrOg         101\n",
       "1     nkDZY5xqihF3XtZMzzfqqg         107\n",
       "2     nkDZY5xqihF3XtZMzzfqqg         126\n",
       "3     nkDZY5xqihF3XtZMzzfqqg         135\n",
       "4     XAH2HpuUUtu7CUO26pbs4w         087\n",
       "...                      ...         ...\n",
       "2738  iPujVXzNJ-NYjhylcjSFxw         035\n",
       "2739  iPujVXzNJ-NYjhylcjSFxw         129\n",
       "2740  8GiUobn2TsWF-3oXC9s_DA         117\n",
       "2741  8GiUobn2TsWF-3oXC9s_DA         035\n",
       "2742  8GiUobn2TsWF-3oXC9s_DA         058\n",
       "\n",
       "[2743 rows x 2 columns]"
      ]
     },
     "metadata": {},
     "output_type": "display_data"
    }
   ],
   "source": [
    "# test stations table query\n",
    "query = 'SELECT * FROM venue_categories'\n",
    "execute_and_display_query(connection, query)"
   ]
  },
  {
   "cell_type": "markdown",
   "metadata": {},
   "source": [
    "### Database validation"
   ]
  },
  {
   "cell_type": "code",
   "execution_count": 465,
   "metadata": {},
   "outputs": [
    {
     "data": {
      "text/html": [
       "<div>\n",
       "<style scoped>\n",
       "    .dataframe tbody tr th:only-of-type {\n",
       "        vertical-align: middle;\n",
       "    }\n",
       "\n",
       "    .dataframe tbody tr th {\n",
       "        vertical-align: top;\n",
       "    }\n",
       "\n",
       "    .dataframe thead th {\n",
       "        text-align: right;\n",
       "    }\n",
       "</style>\n",
       "<table border=\"1\" class=\"dataframe\">\n",
       "  <thead>\n",
       "    <tr style=\"text-align: right;\">\n",
       "      <th></th>\n",
       "      <th>COUNT(*)</th>\n",
       "    </tr>\n",
       "  </thead>\n",
       "  <tbody>\n",
       "    <tr>\n",
       "      <th>0</th>\n",
       "      <td>2743</td>\n",
       "    </tr>\n",
       "  </tbody>\n",
       "</table>\n",
       "</div>"
      ],
      "text/plain": [
       "   COUNT(*)\n",
       "0      2743"
      ]
     },
     "metadata": {},
     "output_type": "display_data"
    },
    {
     "data": {
      "text/html": [
       "<div>\n",
       "<style scoped>\n",
       "    .dataframe tbody tr th:only-of-type {\n",
       "        vertical-align: middle;\n",
       "    }\n",
       "\n",
       "    .dataframe tbody tr th {\n",
       "        vertical-align: top;\n",
       "    }\n",
       "\n",
       "    .dataframe thead th {\n",
       "        text-align: right;\n",
       "    }\n",
       "</style>\n",
       "<table border=\"1\" class=\"dataframe\">\n",
       "  <thead>\n",
       "    <tr style=\"text-align: right;\">\n",
       "      <th></th>\n",
       "      <th>COUNT(*)</th>\n",
       "    </tr>\n",
       "  </thead>\n",
       "  <tbody>\n",
       "    <tr>\n",
       "      <th>0</th>\n",
       "      <td>2743</td>\n",
       "    </tr>\n",
       "  </tbody>\n",
       "</table>\n",
       "</div>"
      ],
      "text/plain": [
       "   COUNT(*)\n",
       "0      2743"
      ]
     },
     "metadata": {},
     "output_type": "display_data"
    },
    {
     "data": {
      "text/html": [
       "<div>\n",
       "<style scoped>\n",
       "    .dataframe tbody tr th:only-of-type {\n",
       "        vertical-align: middle;\n",
       "    }\n",
       "\n",
       "    .dataframe tbody tr th {\n",
       "        vertical-align: top;\n",
       "    }\n",
       "\n",
       "    .dataframe thead th {\n",
       "        text-align: right;\n",
       "    }\n",
       "</style>\n",
       "<table border=\"1\" class=\"dataframe\">\n",
       "  <thead>\n",
       "    <tr style=\"text-align: right;\">\n",
       "      <th></th>\n",
       "      <th>COUNT(*)</th>\n",
       "    </tr>\n",
       "  </thead>\n",
       "  <tbody>\n",
       "    <tr>\n",
       "      <th>0</th>\n",
       "      <td>11829</td>\n",
       "    </tr>\n",
       "  </tbody>\n",
       "</table>\n",
       "</div>"
      ],
      "text/plain": [
       "   COUNT(*)\n",
       "0     11829"
      ]
     },
     "metadata": {},
     "output_type": "display_data"
    },
    {
     "data": {
      "text/html": [
       "<div>\n",
       "<style scoped>\n",
       "    .dataframe tbody tr th:only-of-type {\n",
       "        vertical-align: middle;\n",
       "    }\n",
       "\n",
       "    .dataframe tbody tr th {\n",
       "        vertical-align: top;\n",
       "    }\n",
       "\n",
       "    .dataframe thead th {\n",
       "        text-align: right;\n",
       "    }\n",
       "</style>\n",
       "<table border=\"1\" class=\"dataframe\">\n",
       "  <thead>\n",
       "    <tr style=\"text-align: right;\">\n",
       "      <th></th>\n",
       "      <th>COUNT(*)</th>\n",
       "    </tr>\n",
       "  </thead>\n",
       "  <tbody>\n",
       "    <tr>\n",
       "      <th>0</th>\n",
       "      <td>11829</td>\n",
       "    </tr>\n",
       "  </tbody>\n",
       "</table>\n",
       "</div>"
      ],
      "text/plain": [
       "   COUNT(*)\n",
       "0     11829"
      ]
     },
     "metadata": {},
     "output_type": "display_data"
    },
    {
     "data": {
      "text/html": [
       "<div>\n",
       "<style scoped>\n",
       "    .dataframe tbody tr th:only-of-type {\n",
       "        vertical-align: middle;\n",
       "    }\n",
       "\n",
       "    .dataframe tbody tr th {\n",
       "        vertical-align: top;\n",
       "    }\n",
       "\n",
       "    .dataframe thead th {\n",
       "        text-align: right;\n",
       "    }\n",
       "</style>\n",
       "<table border=\"1\" class=\"dataframe\">\n",
       "  <thead>\n",
       "    <tr style=\"text-align: right;\">\n",
       "      <th></th>\n",
       "      <th>COUNT(*)</th>\n",
       "    </tr>\n",
       "  </thead>\n",
       "  <tbody>\n",
       "    <tr>\n",
       "      <th>0</th>\n",
       "      <td>161</td>\n",
       "    </tr>\n",
       "  </tbody>\n",
       "</table>\n",
       "</div>"
      ],
      "text/plain": [
       "   COUNT(*)\n",
       "0       161"
      ]
     },
     "metadata": {},
     "output_type": "display_data"
    },
    {
     "data": {
      "text/html": [
       "<div>\n",
       "<style scoped>\n",
       "    .dataframe tbody tr th:only-of-type {\n",
       "        vertical-align: middle;\n",
       "    }\n",
       "\n",
       "    .dataframe tbody tr th {\n",
       "        vertical-align: top;\n",
       "    }\n",
       "\n",
       "    .dataframe thead th {\n",
       "        text-align: right;\n",
       "    }\n",
       "</style>\n",
       "<table border=\"1\" class=\"dataframe\">\n",
       "  <thead>\n",
       "    <tr style=\"text-align: right;\">\n",
       "      <th></th>\n",
       "      <th>COUNT(*)</th>\n",
       "    </tr>\n",
       "  </thead>\n",
       "  <tbody>\n",
       "    <tr>\n",
       "      <th>0</th>\n",
       "      <td>161</td>\n",
       "    </tr>\n",
       "  </tbody>\n",
       "</table>\n",
       "</div>"
      ],
      "text/plain": [
       "   COUNT(*)\n",
       "0       161"
      ]
     },
     "metadata": {},
     "output_type": "display_data"
    },
    {
     "data": {
      "text/html": [
       "<div>\n",
       "<style scoped>\n",
       "    .dataframe tbody tr th:only-of-type {\n",
       "        vertical-align: middle;\n",
       "    }\n",
       "\n",
       "    .dataframe tbody tr th {\n",
       "        vertical-align: top;\n",
       "    }\n",
       "\n",
       "    .dataframe thead th {\n",
       "        text-align: right;\n",
       "    }\n",
       "</style>\n",
       "<table border=\"1\" class=\"dataframe\">\n",
       "  <thead>\n",
       "    <tr style=\"text-align: right;\">\n",
       "      <th></th>\n",
       "      <th>COUNT(*)</th>\n",
       "    </tr>\n",
       "  </thead>\n",
       "  <tbody>\n",
       "    <tr>\n",
       "      <th>0</th>\n",
       "      <td>248</td>\n",
       "    </tr>\n",
       "  </tbody>\n",
       "</table>\n",
       "</div>"
      ],
      "text/plain": [
       "   COUNT(*)\n",
       "0       248"
      ]
     },
     "metadata": {},
     "output_type": "display_data"
    },
    {
     "data": {
      "text/html": [
       "<div>\n",
       "<style scoped>\n",
       "    .dataframe tbody tr th:only-of-type {\n",
       "        vertical-align: middle;\n",
       "    }\n",
       "\n",
       "    .dataframe tbody tr th {\n",
       "        vertical-align: top;\n",
       "    }\n",
       "\n",
       "    .dataframe thead th {\n",
       "        text-align: right;\n",
       "    }\n",
       "</style>\n",
       "<table border=\"1\" class=\"dataframe\">\n",
       "  <thead>\n",
       "    <tr style=\"text-align: right;\">\n",
       "      <th></th>\n",
       "      <th>COUNT(*)</th>\n",
       "    </tr>\n",
       "  </thead>\n",
       "  <tbody>\n",
       "    <tr>\n",
       "      <th>0</th>\n",
       "      <td>248</td>\n",
       "    </tr>\n",
       "  </tbody>\n",
       "</table>\n",
       "</div>"
      ],
      "text/plain": [
       "   COUNT(*)\n",
       "0       248"
      ]
     },
     "metadata": {},
     "output_type": "display_data"
    },
    {
     "data": {
      "text/html": [
       "<div>\n",
       "<style scoped>\n",
       "    .dataframe tbody tr th:only-of-type {\n",
       "        vertical-align: middle;\n",
       "    }\n",
       "\n",
       "    .dataframe tbody tr th {\n",
       "        vertical-align: top;\n",
       "    }\n",
       "\n",
       "    .dataframe thead th {\n",
       "        text-align: right;\n",
       "    }\n",
       "</style>\n",
       "<table border=\"1\" class=\"dataframe\">\n",
       "  <thead>\n",
       "    <tr style=\"text-align: right;\">\n",
       "      <th></th>\n",
       "      <th>COUNT(*)</th>\n",
       "    </tr>\n",
       "  </thead>\n",
       "  <tbody>\n",
       "    <tr>\n",
       "      <th>0</th>\n",
       "      <td>1355</td>\n",
       "    </tr>\n",
       "  </tbody>\n",
       "</table>\n",
       "</div>"
      ],
      "text/plain": [
       "   COUNT(*)\n",
       "0      1355"
      ]
     },
     "metadata": {},
     "output_type": "display_data"
    },
    {
     "data": {
      "text/html": [
       "<div>\n",
       "<style scoped>\n",
       "    .dataframe tbody tr th:only-of-type {\n",
       "        vertical-align: middle;\n",
       "    }\n",
       "\n",
       "    .dataframe tbody tr th {\n",
       "        vertical-align: top;\n",
       "    }\n",
       "\n",
       "    .dataframe thead th {\n",
       "        text-align: right;\n",
       "    }\n",
       "</style>\n",
       "<table border=\"1\" class=\"dataframe\">\n",
       "  <thead>\n",
       "    <tr style=\"text-align: right;\">\n",
       "      <th></th>\n",
       "      <th>COUNT(*)</th>\n",
       "    </tr>\n",
       "  </thead>\n",
       "  <tbody>\n",
       "    <tr>\n",
       "      <th>0</th>\n",
       "      <td>1355</td>\n",
       "    </tr>\n",
       "  </tbody>\n",
       "</table>\n",
       "</div>"
      ],
      "text/plain": [
       "   COUNT(*)\n",
       "0      1355"
      ]
     },
     "metadata": {},
     "output_type": "display_data"
    }
   ],
   "source": [
    "# check primary keys are unique\n",
    "\n",
    "# venue categories (composite primary key: venue_id, category_id)\n",
    "query = 'SELECT COUNT(*) FROM venue_categories'\n",
    "execute_and_display_query(connection, query)\n",
    "\n",
    "query = 'SELECT DISTINCT COUNT(*) FROM venue_categories'\n",
    "execute_and_display_query(connection, query)\n",
    "\n",
    "\n",
    "# venue station distance (composite primary key: venue_id, station_id)\n",
    "query = 'SELECT COUNT(*) FROM venue_station_distance'\n",
    "execute_and_display_query(connection, query)\n",
    "\n",
    "query = 'SELECT DISTINCT COUNT(*) FROM venue_station_distance'\n",
    "execute_and_display_query(connection, query)\n",
    "\n",
    "\n",
    "# categories (primary key: category_id)\n",
    "query = 'SELECT COUNT(*) FROM categories'\n",
    "execute_and_display_query(connection, query)\n",
    "\n",
    "query = 'SELECT DISTINCT COUNT(*) FROM categories'\n",
    "execute_and_display_query(connection, query)\n",
    "\n",
    "\n",
    "# stations (primary key: station_id)\n",
    "query = 'SELECT COUNT(*) FROM stations'\n",
    "execute_and_display_query(connection, query)\n",
    "\n",
    "query = 'SELECT DISTINCT COUNT(*) FROM stations'\n",
    "execute_and_display_query(connection, query)\n",
    "\n",
    "\n",
    "# venues (primary key: venue_id)\n",
    "query = 'SELECT COUNT(*) FROM venues'\n",
    "execute_and_display_query(connection, query)\n",
    "\n",
    "query = 'SELECT DISTINCT COUNT(*) FROM venues'\n",
    "execute_and_display_query(connection, query)"
   ]
  },
  {
   "cell_type": "code",
   "execution_count": 471,
   "metadata": {},
   "outputs": [
    {
     "data": {
      "text/html": [
       "<div>\n",
       "<style scoped>\n",
       "    .dataframe tbody tr th:only-of-type {\n",
       "        vertical-align: middle;\n",
       "    }\n",
       "\n",
       "    .dataframe tbody tr th {\n",
       "        vertical-align: top;\n",
       "    }\n",
       "\n",
       "    .dataframe thead th {\n",
       "        text-align: right;\n",
       "    }\n",
       "</style>\n",
       "<table border=\"1\" class=\"dataframe\">\n",
       "  <thead>\n",
       "    <tr style=\"text-align: right;\">\n",
       "      <th></th>\n",
       "      <th>COUNT(*)</th>\n",
       "    </tr>\n",
       "  </thead>\n",
       "  <tbody>\n",
       "    <tr>\n",
       "      <th>0</th>\n",
       "      <td>0</td>\n",
       "    </tr>\n",
       "  </tbody>\n",
       "</table>\n",
       "</div>"
      ],
      "text/plain": [
       "   COUNT(*)\n",
       "0         0"
      ]
     },
     "metadata": {},
     "output_type": "display_data"
    },
    {
     "data": {
      "text/html": [
       "<div>\n",
       "<style scoped>\n",
       "    .dataframe tbody tr th:only-of-type {\n",
       "        vertical-align: middle;\n",
       "    }\n",
       "\n",
       "    .dataframe tbody tr th {\n",
       "        vertical-align: top;\n",
       "    }\n",
       "\n",
       "    .dataframe thead th {\n",
       "        text-align: right;\n",
       "    }\n",
       "</style>\n",
       "<table border=\"1\" class=\"dataframe\">\n",
       "  <thead>\n",
       "    <tr style=\"text-align: right;\">\n",
       "      <th></th>\n",
       "      <th>COUNT(*)</th>\n",
       "    </tr>\n",
       "  </thead>\n",
       "  <tbody>\n",
       "    <tr>\n",
       "      <th>0</th>\n",
       "      <td>0</td>\n",
       "    </tr>\n",
       "  </tbody>\n",
       "</table>\n",
       "</div>"
      ],
      "text/plain": [
       "   COUNT(*)\n",
       "0         0"
      ]
     },
     "metadata": {},
     "output_type": "display_data"
    },
    {
     "data": {
      "text/html": [
       "<div>\n",
       "<style scoped>\n",
       "    .dataframe tbody tr th:only-of-type {\n",
       "        vertical-align: middle;\n",
       "    }\n",
       "\n",
       "    .dataframe tbody tr th {\n",
       "        vertical-align: top;\n",
       "    }\n",
       "\n",
       "    .dataframe thead th {\n",
       "        text-align: right;\n",
       "    }\n",
       "</style>\n",
       "<table border=\"1\" class=\"dataframe\">\n",
       "  <thead>\n",
       "    <tr style=\"text-align: right;\">\n",
       "      <th></th>\n",
       "      <th>COUNT(*)</th>\n",
       "    </tr>\n",
       "  </thead>\n",
       "  <tbody>\n",
       "    <tr>\n",
       "      <th>0</th>\n",
       "      <td>0</td>\n",
       "    </tr>\n",
       "  </tbody>\n",
       "</table>\n",
       "</div>"
      ],
      "text/plain": [
       "   COUNT(*)\n",
       "0         0"
      ]
     },
     "metadata": {},
     "output_type": "display_data"
    },
    {
     "data": {
      "text/html": [
       "<div>\n",
       "<style scoped>\n",
       "    .dataframe tbody tr th:only-of-type {\n",
       "        vertical-align: middle;\n",
       "    }\n",
       "\n",
       "    .dataframe tbody tr th {\n",
       "        vertical-align: top;\n",
       "    }\n",
       "\n",
       "    .dataframe thead th {\n",
       "        text-align: right;\n",
       "    }\n",
       "</style>\n",
       "<table border=\"1\" class=\"dataframe\">\n",
       "  <thead>\n",
       "    <tr style=\"text-align: right;\">\n",
       "      <th></th>\n",
       "      <th>COUNT(*)</th>\n",
       "    </tr>\n",
       "  </thead>\n",
       "  <tbody>\n",
       "    <tr>\n",
       "      <th>0</th>\n",
       "      <td>0</td>\n",
       "    </tr>\n",
       "  </tbody>\n",
       "</table>\n",
       "</div>"
      ],
      "text/plain": [
       "   COUNT(*)\n",
       "0         0"
      ]
     },
     "metadata": {},
     "output_type": "display_data"
    }
   ],
   "source": [
    "# check foreign keys are valid\n",
    "\n",
    "# venue_categories (venue_id FK)\n",
    "query = 'SELECT COUNT(*) FROM venue_categories WHERE venue_id NOT IN (SELECT venue_id FROM venues)'\n",
    "execute_and_display_query(connection, query)\n",
    "\n",
    "# venue_categories (category_id FK)\n",
    "query = 'SELECT COUNT(*) FROM venue_categories WHERE category_id NOT IN (SELECT category_id FROM categories)'\n",
    "execute_and_display_query(connection, query)\n",
    "\n",
    "\n",
    "# venue_station_distance (venue_id FK)\n",
    "query = 'SELECT COUNT(*) FROM venue_station_distance WHERE venue_id NOT IN (SELECT venue_id FROM venues)'\n",
    "execute_and_display_query(connection, query)\n",
    "\n",
    "# venue_station_distance (station_id FK)\n",
    "query = 'SELECT COUNT(*) FROM venue_station_distance WHERE station_id NOT IN (SELECT station_id FROM stations)'\n",
    "execute_and_display_query(connection, query)"
   ]
  }
 ],
 "metadata": {
  "kernelspec": {
   "display_name": "base_env",
   "language": "python",
   "name": "base_env"
  },
  "language_info": {
   "codemirror_mode": {
    "name": "ipython",
    "version": 3
   },
   "file_extension": ".py",
   "mimetype": "text/x-python",
   "name": "python",
   "nbconvert_exporter": "python",
   "pygments_lexer": "ipython3",
   "version": "3.8.18"
  }
 },
 "nbformat": 4,
 "nbformat_minor": 4
}
