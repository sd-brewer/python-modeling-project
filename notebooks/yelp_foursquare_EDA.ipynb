{
 "cells": [
  {
   "cell_type": "code",
   "execution_count": null,
   "metadata": {},
   "outputs": [],
   "source": [
    "# imports\n",
    "import requests\n",
    "import os\n",
    "import pandas as pd\n",
    "import json"
   ]
  },
  {
   "cell_type": "code",
   "execution_count": null,
   "metadata": {},
   "outputs": [],
   "source": [
    "# import stations data file, created in city_biles.ipynb\n",
    "citybike_df = pd.read_json('../data/van_stations.json')"
   ]
  },
  {
   "cell_type": "code",
   "execution_count": null,
   "metadata": {},
   "outputs": [],
   "source": [
    "# filter dataframe for only latitude and longitude data\n",
    "station_locations = citybike_df[['id', 'latitude', 'longitude']]"
   ]
  },
  {
   "cell_type": "markdown",
   "metadata": {},
   "source": [
    "# Foursquare"
   ]
  },
  {
   "cell_type": "markdown",
   "metadata": {},
   "source": [
    "Send a request to Foursquare with a small radius (1000m) for all the bike stations in your city of choice. "
   ]
  },
  {
   "cell_type": "code",
   "execution_count": null,
   "metadata": {},
   "outputs": [],
   "source": [
    "# set api key environment variable\n",
    "fs_key = os.environ.get('FOURSQUARE_KEY')"
   ]
  },
  {
   "cell_type": "code",
   "execution_count": null,
   "metadata": {},
   "outputs": [],
   "source": [
    "# function to get venue information from foursquare api\n",
    "def get_venues_fsq(latitude, longitude, radius, api_key, categories):\n",
    "    url = f'https://api.foursquare.com/v3/places/search?ll={latitude},{longitude}&radius={radius}&categories={categories}'\n",
    "\n",
    "    # create dictionary for headers\n",
    "    headers = {\"Accept\": \"application/json\"}\n",
    "    headers['Authorization'] = api_key\n",
    "    \n",
    "    # make api call\n",
    "    response = requests.get(url, headers=headers)\n",
    "    # check if response is successful\n",
    "    if response.status_code == 200:\n",
    "        return response.json()\n",
    "    else:\n",
    "        return response.raise_for_status()  # raise an HTTPError if the HTTP request returned an unsuccessful status code"
   ]
  },
  {
   "cell_type": "code",
   "execution_count": null,
   "metadata": {},
   "outputs": [],
   "source": [
    "# pass in station locations and get venue information\n",
    "\n",
    "# set radius to 1000m from station\n",
    "radius = 1000\n",
    "# assign fsq catergories ids ('Dining & Drinking, 'Arts & Entertainment')\n",
    "categories = '13000,10000'\n",
    "fsq_venues_list = [] # list to venues dictionaries to be filled in loop\n",
    "# loop through station locations and get venues\n",
    "for index, row in station_locations.iterrows():\n",
    "    # pass in each station location and get venues using get_venues_fs function\n",
    "    fsq_venue = get_venues_fsq(row['latitude'], row['longitude'], radius, fs_key, categories)\n",
    "    fsq_venues_list.append(fsq_venue)"
   ]
  },
  {
   "cell_type": "code",
   "execution_count": null,
   "metadata": {},
   "outputs": [],
   "source": [
    "# save venues as dataframe\n",
    "fsq_response_df = pd.DataFrame(fsq_venues_list)"
   ]
  },
  {
   "cell_type": "code",
   "execution_count": null,
   "metadata": {},
   "outputs": [],
   "source": [
    "# # save venues dataframe as json file to avoid having to make api calls\n",
    "fsq_response_df.to_json('../data/fsq_response.json')"
   ]
  },
  {
   "cell_type": "code",
   "execution_count": null,
   "metadata": {},
   "outputs": [],
   "source": [
    "# create df from van_fsq_venues.json to avoid calling api if notebook is restarted\n",
    "fsq_response_df = pd.read_json('../data/van_fsq_venues.json')"
   ]
  },
  {
   "cell_type": "markdown",
   "metadata": {},
   "source": [
    "Parse through the response to get the POI (such as restaurants, bars, etc) details you want (ratings, name, location, etc)"
   ]
  },
  {
   "cell_type": "code",
   "execution_count": null,
   "metadata": {},
   "outputs": [],
   "source": [
    "# filter dataframe for selected columns\n",
    "\n",
    "# initialize empty lists to store target venue information\n",
    "fsq_venue_data_list = []\n",
    "\n",
    "# interate through venues dataframe and extract venue information\n",
    "for index, venues in fsq_response_df['results'].items():\n",
    "    # iterate through the data for each venue\n",
    "    for venue in venues:\n",
    "        # extract venue info\n",
    "        fsq_id = venue['fsq_id']\n",
    "        name = venue['name']\n",
    "        category = venue['categories'][0]['short_name'] if venue['categories'] else None\n",
    "        # check if address exists, if not set to empty string (to avoid key error)\n",
    "        address = venue['location'].get('address', '') if 'location' in venue else ''\n",
    "        latitude = venue['geocodes']['main']['latitude']\n",
    "        longitude = venue['geocodes']['main']['longitude']\n",
    "        distance = venue['distance']\n",
    "\n",
    "    # append data to the list as a dictionary\n",
    "    fsq_venue_data_list.append({'fsq_id': fsq_id,\n",
    "                       'name': name,\n",
    "                       'category': category,\n",
    "                       'address': address,\n",
    "                       'latitude': latitude,\n",
    "                       'longitude': longitude,\n",
    "                       'distance': distance\n",
    "    })"
   ]
  },
  {
   "cell_type": "markdown",
   "metadata": {},
   "source": [
    "Put your parsed results into a DataFrame"
   ]
  },
  {
   "cell_type": "code",
   "execution_count": null,
   "metadata": {},
   "outputs": [],
   "source": [
    "# save venue list as dataframe, using fsq_id as index\n",
    "fsq_df = pd.DataFrame(fsq_venue_data_list, index=None)"
   ]
  },
  {
   "cell_type": "code",
   "execution_count": null,
   "metadata": {},
   "outputs": [],
   "source": [
    "# export venue_info_df to json file\n",
    "# fsq_df.to_json('../data/fsq_data.json')"
   ]
  },
  {
   "cell_type": "markdown",
   "metadata": {},
   "source": [
    "# Yelp"
   ]
  },
  {
   "cell_type": "code",
   "execution_count": null,
   "metadata": {},
   "outputs": [],
   "source": [
    "# set api key environment variable\n",
    "yelp_key = os.environ.get('YELP_KEY')"
   ]
  },
  {
   "cell_type": "code",
   "execution_count": null,
   "metadata": {},
   "outputs": [],
   "source": [
    "# import stations data file, created in city_biles.ipynb\n",
    "citybike_df = pd.read_json('../data/citybikes_data.json')\n",
    "\n",
    "\n",
    "# get venue information from yelp api\n",
    "def get_venues(station_id, latitude, longitude, radius, api_key, category):\n",
    "    url = 'https://api.yelp.com/v3/businesses/search'\n",
    "    headers = {\n",
    "        'Authorization': f'Bearer {api_key}'\n",
    "    }\n",
    "    parameters = {\n",
    "        'latitude': latitude,\n",
    "        'longitude': longitude,\n",
    "        'radius': radius,\n",
    "        'categories': category,\n",
    "        'limit': 50\n",
    "    }\n",
    "    response = requests.get(url, headers=headers, params=parameters)\n",
    "    if response.status_code == 200:\n",
    "        data = response.json()\n",
    "        data['station_id'] = station_id  # Add the station ID to each venue in the data\n",
    "        return data['businesses']  # Return only the businesses part of the response\n",
    "    else:\n",
    "        print(f'Error for station: {station_id}')\n",
    "        return None\n",
    "\n",
    "\n",
    "\n",
    "venue_list = [] # Initialize empty list to store venues\n",
    "radius = 1000 # Set radius to 1000m\n",
    "category = 'restaurants' # Set category to restaurants\n",
    "for station in citybike_df.itertuples(): # Iterate through the stations\n",
    "    venues = get_venues(station.id, station.latitude, station.longitude, radius, yelp_key, category)\n",
    "    if venues:  # Check if venues is not None\n",
    "        for venue in venues:\n",
    "            venue['station_id'] = station.id  # Ensure each venue has the station_id\n",
    "        venue_list.extend(venues)  # Add the venues to the venue list\n",
    "\n",
    "# errors for station_ids that did not return any venues:\n",
    "# will remove these stations from the dataframe\n",
    "'''\n",
    "Error for station: b7dd37a7dd668d6d10024b7f18acc438\n",
    "Error for station: cc25ae4f093b33ba0afd1dbc0dd20324\n",
    "Error for station: db1e56a71a3279f51301d732ee5a055b\n",
    "Error for station: 5726de7c5646b82f7aaeafba50aee03e\n",
    "Error for station: cde61c70e5556ee2fe3ceb9d958b6482\n",
    "Error for station: 852212d6d52b5f00544fad01d21c7db2\n",
    "Error for station: 3dae5d936bb6b222d135eff52833e7f4\n",
    "'''\n"
   ]
  },
  {
   "cell_type": "code",
   "execution_count": null,
   "metadata": {},
   "outputs": [],
   "source": [
    "yelp_response_df = pd.DataFrame(venue_list)"
   ]
  },
  {
   "cell_type": "code",
   "execution_count": null,
   "metadata": {},
   "outputs": [],
   "source": [
    "# save unfiltered dataframe to json to avoid having to call the API again\n",
    "yelp_response_df.to_json('../data/yelp_response.json')"
   ]
  },
  {
   "cell_type": "code",
   "execution_count": null,
   "metadata": {},
   "outputs": [],
   "source": [
    "# create df from yelp_response.json to avoid calling api if notebook is restarted\n",
    "yelp_response_df = pd.read_json('../data/yelp_response.json')"
   ]
  },
  {
   "cell_type": "code",
   "execution_count": null,
   "metadata": {},
   "outputs": [],
   "source": [
    "# create copy of yelp_response_df to normalize\n",
    "yelp_df = yelp_response_df.copy()\n",
    "\n",
    "# flatten categories dictionary into a list of title strings\n",
    "yelp_df['categories'] = yelp_df['categories'].apply(lambda x: [d['title'] for d in x if 'title' in d])\n",
    "# flatten coordinates dictionary into separate columns\n",
    "yelp_df['latitude'] = yelp_df['coordinates'].apply(lambda x: x['latitude'])\n",
    "yelp_df['longitude'] = yelp_df['coordinates'].apply(lambda x: x['longitude'])\n",
    "# flatten address dictionary into first address1 string\n",
    "yelp_df['address'] = yelp_df['location'].apply(lambda x: x['address1'])\n",
    "\n",
    "\n",
    "# create new dataframe with only the columns we need\n",
    "yelp_df = yelp_df[[\n",
    "    'id', 'name', 'rating', 'review_count', 'price', 'categories',\n",
    "    'latitude', 'longitude', 'address', 'distance', 'station_id'\n",
    "]]\n",
    "\n",
    "# rename columns for clarity\n",
    "yelp_df.rename(columns={\n",
    "    'id': 'yelp_venue_id', 'name': 'venue_name', 'station_id': 'nearest_station_id',\n",
    "    'distance': 'venue_to_station_distance', 'address': 'venue_address',\n",
    "    'longitude': 'venue_longitude', 'latitude': 'venue_latitude',\n",
    "    'categories': 'restaurant_categories'\n",
    "}, inplace=True)\n"
   ]
  },
  {
   "cell_type": "code",
   "execution_count": null,
   "metadata": {},
   "outputs": [],
   "source": [
    "# save normalized data to json for use in other notebooks\n",
    "yelp_df.to_json('../data/yelp_data.json')"
   ]
  },
  {
   "cell_type": "code",
   "execution_count": null,
   "metadata": {},
   "outputs": [],
   "source": [
    "# restore yelp_df from json file if notebook is restarted\n",
    "yelp_df = pd.read_json('../data/yelp_data.json')"
   ]
  },
  {
   "cell_type": "markdown",
   "metadata": {},
   "source": [
    "# Comparing Results"
   ]
  },
  {
   "cell_type": "markdown",
   "metadata": {},
   "source": [
    "Which API provided you with more complete data? Provide an explanation. "
   ]
  },
  {
   "cell_type": "code",
   "execution_count": null,
   "metadata": {},
   "outputs": [],
   "source": [
    "yelp_df.shape\n",
    "\n",
    "fsq_df.shape"
   ]
  },
  {
   "cell_type": "markdown",
   "metadata": {},
   "source": [
    "### explanation:\n",
    "- yelp provided more complete data\n",
    "- I was unable to get fsq api to return a full list of venues, only returning one for each station\n",
    "    - yelp returned 11,828 results, yelp returned 248 (same as number of unique stations coordinates)\n",
    "    - Given more time, I would troubleshoot this until i was able to construct a proper dataset\n",
    "- yelp provides more data per venue, this data is required for modeling\n",
    "    - rating\n",
    "    - review count\n",
    "    - price\n",
    "- moving forward, will be using yelp df for EDA, joining, database and modelling\n"
   ]
  },
  {
   "cell_type": "markdown",
   "metadata": {},
   "source": [
    "Get the top 10 restaurants according to their rating"
   ]
  },
  {
   "cell_type": "code",
   "execution_count": null,
   "metadata": {},
   "outputs": [],
   "source": [
    "yelp_df[['venue_name', 'rating']].sort_values(by='rating', ascending=False).head(10)"
   ]
  }
 ],
 "metadata": {
  "kernelspec": {
   "display_name": "base_env",
   "language": "python",
   "name": "base_env"
  },
  "language_info": {
   "codemirror_mode": {
    "name": "ipython",
    "version": 3
   },
   "file_extension": ".py",
   "mimetype": "text/x-python",
   "name": "python",
   "nbconvert_exporter": "python",
   "pygments_lexer": "ipython3",
   "version": "3.8.18"
  }
 },
 "nbformat": 4,
 "nbformat_minor": 4
}
