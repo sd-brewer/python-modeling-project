{
 "cells": [
  {
   "cell_type": "code",
   "execution_count": null,
   "metadata": {},
   "outputs": [],
   "source": [
    "# import libraries\n",
    "import requests\n",
    "import pandas as pd\n",
    "import json\n",
    "from datetime import datetime"
   ]
  },
  {
   "cell_type": "markdown",
   "metadata": {},
   "source": [
    "# CityBikes"
   ]
  },
  {
   "cell_type": "markdown",
   "metadata": {},
   "source": [
    "Send a request to CityBikes for the city of your choice. "
   ]
  },
  {
   "cell_type": "code",
   "execution_count": null,
   "metadata": {},
   "outputs": [],
   "source": [
    "# function to make api request\n",
    "def get_networks():\n",
    "    url = \"http://api.citybik.es/v2/networks\"\n",
    "    response = requests.get(url)\n",
    "    networks = response.json()\n",
    "    return networks\n",
    "\n",
    "networks = get_networks()\n",
    "\n",
    "# create a dataframe from the networks data\n",
    "networks_df = pd.DataFrame(networks['networks'])\n",
    "\n",
    "# find 'Vancouver' in the networks data\n",
    "# iterate over the rows of the DataFrame\n",
    "for index, row in networks_df.iterrows():\n",
    "    # check if the 'city' key in the 'location' dictionary is 'Vancouver'\n",
    "    if row['location']['city'] == 'Vancouver':\n",
    "        vancouver_network = row\n",
    "\n",
    "# make the API call to get detailed network data for vancouver, using href found in above vancouver network data\n",
    "network_detail_url = f\"http://api.citybik.es{vancouver_network['href']}\"\n",
    "response = requests.get(network_detail_url)\n",
    "van_network_data = response.json()"
   ]
  },
  {
   "cell_type": "markdown",
   "metadata": {},
   "source": [
    "Parse through the response to get the details you want for the bike stations in that city (latitude, longitude, number of bikes). "
   ]
  },
  {
   "cell_type": "code",
   "execution_count": 70,
   "metadata": {},
   "outputs": [],
   "source": [
    "# put the data into a DataFrame\n",
    "van_network_df = pd.DataFrame(van_network_data)\n",
    "\n",
    "# get the stations data from the DataFrame\n",
    "van_stations_df = pd.DataFrame(van_network_df.loc['stations'][0])"
   ]
  },
  {
   "cell_type": "code",
   "execution_count": null,
   "metadata": {},
   "outputs": [],
   "source": [
    "# save raw citybikes response data to json to avoid repeat api calls\n",
    "van_stations_df.to_json('../data/citybikes_response.json')"
   ]
  },
  {
   "cell_type": "code",
   "execution_count": 71,
   "metadata": {},
   "outputs": [],
   "source": [
    "# format and filter dataframe\n",
    "\n",
    "# Convert to datetime with UTC timezone\n",
    "van_stations_df['timestamp'] = pd.to_datetime(van_stations_df['timestamp'], utc=True)\n",
    "# Convert from UTC to local time (Vancouver)\n",
    "van_stations_df['timestamp'] = van_stations_df['timestamp'].dt.tz_convert('US/Pacific')\n",
    "# Split timestamp into date and time columns\n",
    "van_stations_df['date'] = pd.to_datetime(van_stations_df['timestamp']).apply(lambda x: x.strftime(\"%Y-%m-%d\"))\n",
    "van_stations_df['time'] = pd.to_datetime(van_stations_df['timestamp']).apply(lambda x: x.strftime(\"%H:%M:%S\"))\n",
    "\n",
    "# flatten the 'extra' column into into separate columns\n",
    "van_stations_df = pd.concat([van_stations_df.drop(['extra'], axis=1), van_stations_df['extra'].apply(pd.Series)], axis=1)\n",
    "\n",
    "# drop redundant/unneeded columns (has ebikes is always True)\n",
    "van_stations_df = van_stations_df.drop(['has_ebikes', 'uid', 'timestamp', 'last_updated'], axis=1)\n",
    "\n",
    "# rename columns for clarity\n",
    "van_stations_df.rename(columns={\n",
    "    'name': 'station_name', 'id': 'station_id', 'latitude': 'station_latitude', \n",
    "    'longitude': 'station_longitude', 'slots': 'total_slots', \n",
    "    'free_bikes': 'total_bikes_available', 'ebikes': 'ebikes_available',\n",
    "    'normal_bikes': 'normal_bikes_available', 'date': 'station_info_date',\n",
    "    'time': 'station_info_time', 'renting': 'can_rent', 'returning': 'can_return'\n",
    "}, inplace=True)\n",
    "\n",
    "# reorder columns prioritizing data of interest\n",
    "van_stations_df = van_stations_df[[\n",
    "    'station_name', 'total_slots', 'empty_slots', 'total_bikes_available', \n",
    "    'normal_bikes_available', 'ebikes_available', 'station_info_date',\n",
    "    'station_info_time', 'station_latitude', 'station_longitude', 'can_rent', \n",
    "    'can_return', 'station_id'\n",
    "]]\n"
   ]
  },
  {
   "cell_type": "markdown",
   "metadata": {},
   "source": [
    "Put your parsed results into a DataFrame."
   ]
  },
  {
   "cell_type": "code",
   "execution_count": 72,
   "metadata": {},
   "outputs": [],
   "source": [
    "# save the dataframe to json for use in yelp_foursqure.ipynb\n",
    "van_stations_df.to_json('../data/citybikes_data.json')"
   ]
  },
  {
   "cell_type": "code",
   "execution_count": 73,
   "metadata": {},
   "outputs": [
    {
     "data": {
      "text/html": [
       "<div>\n",
       "<style scoped>\n",
       "    .dataframe tbody tr th:only-of-type {\n",
       "        vertical-align: middle;\n",
       "    }\n",
       "\n",
       "    .dataframe tbody tr th {\n",
       "        vertical-align: top;\n",
       "    }\n",
       "\n",
       "    .dataframe thead th {\n",
       "        text-align: right;\n",
       "    }\n",
       "</style>\n",
       "<table border=\"1\" class=\"dataframe\">\n",
       "  <thead>\n",
       "    <tr style=\"text-align: right;\">\n",
       "      <th></th>\n",
       "      <th>station_name</th>\n",
       "      <th>total_slots</th>\n",
       "      <th>empty_slots</th>\n",
       "      <th>total_bikes_available</th>\n",
       "      <th>normal_bikes_available</th>\n",
       "      <th>ebikes_available</th>\n",
       "      <th>station_info_date</th>\n",
       "      <th>station_info_time</th>\n",
       "      <th>station_latitude</th>\n",
       "      <th>station_longitude</th>\n",
       "      <th>can_rent</th>\n",
       "      <th>can_return</th>\n",
       "      <th>station_id</th>\n",
       "    </tr>\n",
       "  </thead>\n",
       "  <tbody>\n",
       "    <tr>\n",
       "      <th>0</th>\n",
       "      <td>10th &amp; Cambie</td>\n",
       "      <td>36</td>\n",
       "      <td>13</td>\n",
       "      <td>22</td>\n",
       "      <td>17</td>\n",
       "      <td>5</td>\n",
       "      <td>2023-12-09</td>\n",
       "      <td>13:39:21</td>\n",
       "      <td>49.262487</td>\n",
       "      <td>-123.114397</td>\n",
       "      <td>True</td>\n",
       "      <td>True</td>\n",
       "      <td>7a19c49f486d7c0c02b3685d7b240448</td>\n",
       "    </tr>\n",
       "    <tr>\n",
       "      <th>1</th>\n",
       "      <td>Yaletown-Roundhouse Station</td>\n",
       "      <td>16</td>\n",
       "      <td>11</td>\n",
       "      <td>5</td>\n",
       "      <td>4</td>\n",
       "      <td>1</td>\n",
       "      <td>2023-12-09</td>\n",
       "      <td>13:39:21</td>\n",
       "      <td>49.274566</td>\n",
       "      <td>-123.121817</td>\n",
       "      <td>True</td>\n",
       "      <td>True</td>\n",
       "      <td>32603a87cfca71d0f7dfa3513bad69d5</td>\n",
       "    </tr>\n",
       "    <tr>\n",
       "      <th>2</th>\n",
       "      <td>Dunsmuir &amp; Beatty</td>\n",
       "      <td>26</td>\n",
       "      <td>1</td>\n",
       "      <td>25</td>\n",
       "      <td>21</td>\n",
       "      <td>4</td>\n",
       "      <td>2023-12-09</td>\n",
       "      <td>13:39:21</td>\n",
       "      <td>49.279764</td>\n",
       "      <td>-123.110154</td>\n",
       "      <td>True</td>\n",
       "      <td>True</td>\n",
       "      <td>6d42fa40360f9a6b2bf641c7b8bb2862</td>\n",
       "    </tr>\n",
       "    <tr>\n",
       "      <th>3</th>\n",
       "      <td>12th &amp; Yukon (City Hall)</td>\n",
       "      <td>16</td>\n",
       "      <td>13</td>\n",
       "      <td>2</td>\n",
       "      <td>1</td>\n",
       "      <td>1</td>\n",
       "      <td>2023-12-09</td>\n",
       "      <td>13:39:21</td>\n",
       "      <td>49.260599</td>\n",
       "      <td>-123.113504</td>\n",
       "      <td>True</td>\n",
       "      <td>True</td>\n",
       "      <td>66f873d641d448bd1572ab086665a458</td>\n",
       "    </tr>\n",
       "    <tr>\n",
       "      <th>4</th>\n",
       "      <td>8th &amp; Ash</td>\n",
       "      <td>16</td>\n",
       "      <td>9</td>\n",
       "      <td>7</td>\n",
       "      <td>2</td>\n",
       "      <td>5</td>\n",
       "      <td>2023-12-09</td>\n",
       "      <td>13:39:21</td>\n",
       "      <td>49.264215</td>\n",
       "      <td>-123.117772</td>\n",
       "      <td>True</td>\n",
       "      <td>True</td>\n",
       "      <td>485d4d24c803cfde829ab89699fed833</td>\n",
       "    </tr>\n",
       "  </tbody>\n",
       "</table>\n",
       "</div>"
      ],
      "text/plain": [
       "                  station_name  total_slots  empty_slots  \\\n",
       "0                10th & Cambie           36           13   \n",
       "1  Yaletown-Roundhouse Station           16           11   \n",
       "2            Dunsmuir & Beatty           26            1   \n",
       "3     12th & Yukon (City Hall)           16           13   \n",
       "4                    8th & Ash           16            9   \n",
       "\n",
       "   total_bikes_available  normal_bikes_available  ebikes_available  \\\n",
       "0                     22                      17                 5   \n",
       "1                      5                       4                 1   \n",
       "2                     25                      21                 4   \n",
       "3                      2                       1                 1   \n",
       "4                      7                       2                 5   \n",
       "\n",
       "  station_info_date station_info_time  station_latitude  station_longitude  \\\n",
       "0        2023-12-09          13:39:21         49.262487        -123.114397   \n",
       "1        2023-12-09          13:39:21         49.274566        -123.121817   \n",
       "2        2023-12-09          13:39:21         49.279764        -123.110154   \n",
       "3        2023-12-09          13:39:21         49.260599        -123.113504   \n",
       "4        2023-12-09          13:39:21         49.264215        -123.117772   \n",
       "\n",
       "   can_rent  can_return                        station_id  \n",
       "0      True        True  7a19c49f486d7c0c02b3685d7b240448  \n",
       "1      True        True  32603a87cfca71d0f7dfa3513bad69d5  \n",
       "2      True        True  6d42fa40360f9a6b2bf641c7b8bb2862  \n",
       "3      True        True  66f873d641d448bd1572ab086665a458  \n",
       "4      True        True  485d4d24c803cfde829ab89699fed833  "
      ]
     },
     "execution_count": 73,
     "metadata": {},
     "output_type": "execute_result"
    }
   ],
   "source": [
    "van_stations_df.head()"
   ]
  }
 ],
 "metadata": {
  "kernelspec": {
   "display_name": "base_env",
   "language": "python",
   "name": "base_env"
  },
  "language_info": {
   "codemirror_mode": {
    "name": "ipython",
    "version": 3
   },
   "file_extension": ".py",
   "mimetype": "text/x-python",
   "name": "python",
   "nbconvert_exporter": "python",
   "pygments_lexer": "ipython3",
   "version": "3.8.18"
  }
 },
 "nbformat": 4,
 "nbformat_minor": 4
}
